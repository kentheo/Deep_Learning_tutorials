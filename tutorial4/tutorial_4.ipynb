{
 "cells": [
  {
   "cell_type": "markdown",
   "metadata": {},
   "source": [
    "# CO460 - Deep Learning - Tutorial 4"
   ]
  },
  {
   "cell_type": "markdown",
   "metadata": {},
   "source": [
    "## Introduction\n",
    "\n",
    "In this tutorial, there are two parts:\n",
    "\n",
    "First we demonstrate:\n",
    "- A Generative Adversarial Network (GAN) \n",
    "- A Conditional Generative Adversarial Network (cGAN)\n",
    "\n",
    "Second:\n",
    "- Exercise and experimentations with GAN architectures and sampling"
   ]
  },
  {
   "cell_type": "code",
   "execution_count": 1,
   "metadata": {},
   "outputs": [],
   "source": [
    "import os\n",
    "import torch\n",
    "import torch.nn as nn\n",
    "import torch.optim as optim\n",
    "from torch.utils.data import DataLoader\n",
    "from torchvision import datasets, transforms\n",
    "from torchvision.utils import save_image, make_grid\n",
    "import torch.nn.functional as F\n",
    "from utils import *\n",
    "import matplotlib.pyplot as plt\n",
    "import numpy as np"
   ]
  },
  {
   "cell_type": "markdown",
   "metadata": {},
   "source": [
    "### Device selection"
   ]
  },
  {
   "cell_type": "code",
   "execution_count": 2,
   "metadata": {},
   "outputs": [
    {
     "name": "stdout",
     "output_type": "stream",
     "text": [
      "cuda:0\n"
     ]
    }
   ],
   "source": [
    "GPU = True\n",
    "device_idx = 0\n",
    "if GPU:\n",
    "    device = torch.device(\"cuda:\" + str(device_idx) if torch.cuda.is_available() else \"cpu\")\n",
    "else:\n",
    "    device = torch.device(\"cpu\")\n",
    "print(device)"
   ]
  },
  {
   "cell_type": "markdown",
   "metadata": {},
   "source": [
    "### Reproducibility"
   ]
  },
  {
   "cell_type": "code",
   "execution_count": 3,
   "metadata": {},
   "outputs": [
    {
     "data": {
      "text/plain": [
<<<<<<< HEAD
       "<torch._C.Generator at 0x7f5b8dc8cef0>"
=======
       "<torch._C.Generator at 0x7f9edc0a8030>"
>>>>>>> 6c392617455d62191e43de814e698e67c9a1d53a
      ]
     },
     "execution_count": 3,
     "metadata": {},
     "output_type": "execute_result"
    }
   ],
   "source": [
    "# We set a random seed to ensure that your results are reproducible.\n",
    "if torch.cuda.is_available():\n",
    "    torch.backends.cudnn.deterministic = True\n",
    "torch.manual_seed(0)"
   ]
  },
  {
   "cell_type": "markdown",
   "metadata": {},
   "source": [
    "###  Normalization: \n",
    "\n",
    "$ x_{norm} = \\frac{x-\\mu}{\\sigma} $\n",
    "\n",
    "* Same as in the previous tutorial: input after normalization $\\in [-1,1] $\n",
    "* Activation function of the Generator output layer should be tanh"
   ]
  },
  {
   "cell_type": "code",
   "execution_count": 4,
   "metadata": {},
<<<<<<< HEAD
   "outputs": [],
=======
   "outputs": [
    {
     "name": "stdout",
     "output_type": "stream",
     "text": [
      "Downloading http://yann.lecun.com/exdb/mnist/train-images-idx3-ubyte.gz\n",
      "Downloading http://yann.lecun.com/exdb/mnist/train-labels-idx1-ubyte.gz\n",
      "Downloading http://yann.lecun.com/exdb/mnist/t10k-images-idx3-ubyte.gz\n",
      "Downloading http://yann.lecun.com/exdb/mnist/t10k-labels-idx1-ubyte.gz\n",
      "Processing...\n",
      "Done!\n"
     ]
    }
   ],
>>>>>>> 6c392617455d62191e43de814e698e67c9a1d53a
   "source": [
    "transform = transforms.Compose([\n",
    "     transforms.ToTensor(),\n",
    "     transforms.Normalize(mean=(0.5, 0.5, 0.5), std=(0.5, 0.5, 0.5))\n",
    "])\n",
    "\n",
    "train_dat = datasets.MNIST(\n",
    "    \"data/\", train=True, download=True, transform=transform\n",
    ")\n",
    "test_dat = datasets.MNIST(\"./data/\", train=False, transform=transform)\n",
    "\n",
    "denorm = denorm_for_tanh\n",
    "\n",
    "if not os.path.exists('./cGAN'):\n",
    "    os.mkdir('./cGAN')\n",
    "    \n",
    "if not os.path.exists('./GAN'):\n",
    "    os.mkdir('./GAN')"
   ]
  },
  {
   "cell_type": "markdown",
   "metadata": {},
   "source": [
    "### Hyper-parameter selection"
   ]
  },
  {
   "cell_type": "code",
   "execution_count": 5,
   "metadata": {},
   "outputs": [],
   "source": [
    "num_epochs = 100\n",
    "batch_size = 128\n",
    "learning_rate = 2e-4\n",
    "noise_dim = 128\n",
    "h_dim1 = 256\n",
    "h_dim2 = 512\n",
    "h_dim3 = 1024\n",
    "in_dim = np.prod(train_dat[0][0].shape)\n",
    "out_shape = train_dat[0][0].shape\n",
    "\n",
    "sample_interval = 5"
   ]
  },
  {
   "cell_type": "code",
   "execution_count": 6,
   "metadata": {},
   "outputs": [],
   "source": [
    "train_loader = DataLoader(train_dat, batch_size, shuffle=True, num_workers=16)\n",
    "test_loader = DataLoader(test_dat, batch_size, shuffle=False, num_workers=16)\n"
   ]
  },
  {
   "cell_type": "markdown",
   "metadata": {},
   "source": [
    "## Part I - Generative Adversarial Network"
   ]
  },
  {
   "cell_type": "markdown",
   "metadata": {},
   "source": [
    "### Reminder:\n",
    "\n",
    "**Zero-Sum game objective**:\n",
    "\n",
    "$$\\min_{\\theta_G}\\max_{\\theta_D} \\mathbb{E}_{x\\sim p_{data}}[\\log D(x)] + \\mathbb{E}_{z\\sim p_z}[\\log (1- D(G(z)))] \n",
    "\\\\= \\min_{\\theta_G}\\max_{\\theta_D} \\sum_{x,z} y_x \\log D(x) +(1-y_{G(z)})\\log (1-D(G(z))) : Binary Cross Entropy\n",
    "$$\n",
    "\n",
    "where $y_x = 1, y_{G(z)} = 0 $\n",
    "\n",
    "\n",
    "**Baseline Algorithm**:\n",
    "\n",
    "- For N epochs repeat:\n",
    "    1. Sample N samples $x\\sim p_{data}$ and N samples $z\\sim p_{z}$\n",
    "    2. Predict the labels that the Discriminator assigns.  Then backpropagate the error across the Discriminator $\\to$ gradient ascent for the Discriminator.\n",
    "    3. Predict the new labels that the Discriminator assigns to fake examples. Then backpropagate the error across the Generator $\\to$ gradient descent for the Generator.\n",
    "   \n",
    "**Alternatively**:\n",
    "\n",
    "- Sample some real data and some fake ones.\n",
    "- Train the Discriminator for a few steps.\n",
    "- Sample some fake data\n",
    "- Then train the Generator for one step.\n",
    "\n",
    "**Note**:\n",
    "\n",
    "- Usually for the Generator, instead of the original function we minimize: $\\min_{\\theta_G} - \\mathbb{E}_{z\\sim p_z}[\\log D(G(z))] $\n",
    "\n",
    "https://arxiv.org/pdf/1406.2661.pdf\n"
   ]
  },
  {
   "cell_type": "markdown",
   "metadata": {},
   "source": [
    "### Define the model - GAN structure\n",
    "\n",
    "<img src=\"imgs/GAN.png\" width=\"700\" />"
   ]
  },
  {
   "cell_type": "code",
   "execution_count": 7,
   "metadata": {},
   "outputs": [],
   "source": [
    "class Generator(torch.nn.Module):\n",
    "\n",
    "    def __init__(self, in_dim = 128, h_dim1 = 256, \\\n",
    "                                            h_dim2 = 512, h_dim3 = 1024, out_shape = out_shape):\n",
    "        super(Generator, self).__init__()\n",
    "        \n",
    "        self.out_shape = out_shape\n",
    "        \n",
    "        self.hidden0 = nn.Sequential(\n",
    "            nn.Linear(in_dim, h_dim1),\n",
    "            nn.ReLU()\n",
    "        )\n",
    "        self.hidden1 = nn.Sequential(            \n",
    "            nn.Linear(h_dim1,h_dim2),\n",
    "            nn.ReLU()\n",
    "        )\n",
    "        self.hidden2 = nn.Sequential(\n",
    "            nn.Linear(h_dim2, h_dim3),\n",
    "            nn.ReLU()\n",
    "        )\n",
    "        \n",
    "        self.out = nn.Sequential(\n",
    "            nn.Linear(h_dim3, np.prod(out_shape)),\n",
    "            nn.Tanh()\n",
    "        )\n",
    "        \n",
    "\n",
    "    def forward(self, x):\n",
    "        x = self.hidden0(x)\n",
    "        x = self.hidden1(x)\n",
    "        x = self.hidden2(x)\n",
    "        x = self.out(x)\n",
    "        x = x.view(x.size(0),*self.out_shape)\n",
    "        return x\n",
    "    \n",
    "    \n",
    "    \n",
    "    \n",
    "    \n",
    "class Discriminator(torch.nn.Module):\n",
    "\n",
    "    def __init__(self, in_dim = 784, h_dim1 = 1024, \\\n",
    "                                               h_dim2 = 512, h_dim3 = 256, out_dim = 1):\n",
    "        super(Discriminator, self).__init__()\n",
    "        \n",
    "        self.hidden0 = nn.Sequential( \n",
    "            nn.Linear(in_dim, h_dim1),\n",
    "            nn.ReLU()\n",
    "\n",
    "        )\n",
    "        self.hidden1 = nn.Sequential(\n",
    "            nn.Linear(h_dim1, h_dim2),\n",
    "            nn.ReLU()\n",
    "\n",
    "        )\n",
    "        self.hidden2 = nn.Sequential(\n",
    "            nn.Linear(h_dim2, h_dim3),\n",
    "            nn.ReLU()\n",
    "\n",
    "        )\n",
    "        self.out = nn.Sequential(\n",
    "            torch.nn.Linear(h_dim3, out_dim),\n",
    "            torch.nn.Sigmoid()\n",
    "        )\n",
    "\n",
    "    def forward(self, x):\n",
    "        x = x.view(x.size(0), -1)\n",
    "        x = self.hidden0(x)\n",
    "        x = self.hidden1(x)\n",
    "        x = self.hidden2(x)\n",
    "        x = self.out(x)\n",
    "        return x\n"
   ]
  },
  {
   "cell_type": "code",
   "execution_count": 8,
   "metadata": {},
   "outputs": [],
   "source": [
    "generator = Generator(in_dim = noise_dim, h_dim1= h_dim1, \\\n",
    "                              h_dim2=h_dim2, h_dim3 = h_dim3, out_shape = out_shape)\n",
    "discriminator = Discriminator(in_dim = in_dim, h_dim1= h_dim3, \\\n",
    "                              h_dim2=h_dim2, h_dim3 = h_dim1, out_dim = 1)\n"
   ]
  },
  {
   "cell_type": "markdown",
   "metadata": {},
   "source": [
    "### Define Loss function"
   ]
  },
  {
   "cell_type": "code",
   "execution_count": 9,
   "metadata": {},
   "outputs": [],
   "source": [
    "criterion = nn.BCELoss(reduction='mean')\n",
    "def loss_function(out, label):\n",
    "    loss = criterion(out, label)\n",
    "    return loss"
   ]
  },
  {
   "cell_type": "markdown",
   "metadata": {},
   "source": [
    "### Initialize Model and print number of parameters"
   ]
  },
  {
   "cell_type": "code",
   "execution_count": 10,
   "metadata": {},
   "outputs": [
    {
<<<<<<< HEAD
     "name": "stderr",
     "output_type": "stream",
     "text": [
      "/vol/lab/course/416/venv/lib/python3.6/site-packages/torch/cuda/__init__.py:117: UserWarning: \n",
      "    Found GPU0 NVS 310 which is of cuda capability 2.1.\n",
      "    PyTorch no longer supports this GPU because it is too old.\n",
      "    \n",
      "  warnings.warn(old_gpu_warn % (d, name, major, capability[1]))\n"
     ]
    },
    {
=======
>>>>>>> 6c392617455d62191e43de814e698e67c9a1d53a
     "name": "stdout",
     "output_type": "stream",
     "text": [
      "Total number of generator parameters is: 1493520\n",
      "Generator(\n",
      "  (hidden0): Sequential(\n",
      "    (0): Linear(in_features=128, out_features=256, bias=True)\n",
      "    (1): ReLU()\n",
      "  )\n",
      "  (hidden1): Sequential(\n",
      "    (0): Linear(in_features=256, out_features=512, bias=True)\n",
      "    (1): ReLU()\n",
      "  )\n",
      "  (hidden2): Sequential(\n",
      "    (0): Linear(in_features=512, out_features=1024, bias=True)\n",
      "    (1): ReLU()\n",
      "  )\n",
      "  (out): Sequential(\n",
      "    (0): Linear(in_features=1024, out_features=784, bias=True)\n",
      "    (1): Tanh()\n",
      "  )\n",
      ")\n",
      "Total number of discriminator parameters is: 1460225\n",
      "Discriminator(\n",
      "  (hidden0): Sequential(\n",
      "    (0): Linear(in_features=784, out_features=1024, bias=True)\n",
      "    (1): ReLU()\n",
      "  )\n",
      "  (hidden1): Sequential(\n",
      "    (0): Linear(in_features=1024, out_features=512, bias=True)\n",
      "    (1): ReLU()\n",
      "  )\n",
      "  (hidden2): Sequential(\n",
      "    (0): Linear(in_features=512, out_features=256, bias=True)\n",
      "    (1): ReLU()\n",
      "  )\n",
      "  (out): Sequential(\n",
      "    (0): Linear(in_features=256, out_features=1, bias=True)\n",
      "    (1): Sigmoid()\n",
      "  )\n",
      ")\n"
     ]
    }
   ],
   "source": [
    "generator = generator.to(device)\n",
    "discriminator = discriminator.to(device)\n",
    "\n",
    "params = sum(p.numel() for p in generator.parameters() if p.requires_grad)\n",
    "print(\"Total number of generator parameters is: {}\".format(params))  # what would the number actually be\n",
    "print(generator)\n",
    "\n",
    "params = sum(p.numel() for p in discriminator.parameters() if p.requires_grad)\n",
    "print(\"Total number of discriminator parameters is: {}\".format(params))  # what would the number actually be\n",
    "print(discriminator)"
   ]
  },
  {
   "cell_type": "markdown",
   "metadata": {},
   "source": [
    "### Choose and initialize optimizer"
   ]
  },
  {
   "cell_type": "code",
   "execution_count": 11,
   "metadata": {},
   "outputs": [],
   "source": [
    "optimizer_G = torch.optim.Adam(generator.parameters(), lr=learning_rate)\n",
    "optimizer_D = torch.optim.Adam(discriminator.parameters(), lr=learning_rate)"
   ]
  },
  {
   "cell_type": "markdown",
   "metadata": {},
   "source": [
    "### Pick a noise distribution"
   ]
  },
  {
   "cell_type": "code",
   "execution_count": 12,
   "metadata": {},
   "outputs": [],
   "source": [
    "def generate_noise(batch_size, noise_dim):\n",
    "    noise = torch.randn(batch_size, noise_dim)\n",
    "    return noise                        "
   ]
  },
  {
   "cell_type": "markdown",
   "metadata": {},
   "source": [
    " ### Train"
   ]
  },
  {
   "cell_type": "code",
   "execution_count": 13,
   "metadata": {},
   "outputs": [
    {
<<<<<<< HEAD
     "ename": "RuntimeError",
     "evalue": "CUDA error: no kernel image is available for execution on the device",
     "output_type": "error",
     "traceback": [
      "\u001b[0;31m---------------------------------------------------------------------------\u001b[0m",
      "\u001b[0;31mRuntimeError\u001b[0m                              Traceback (most recent call last)",
      "\u001b[0;32m<ipython-input-13-4d0e760bf498>\u001b[0m in \u001b[0;36m<module>\u001b[0;34m\u001b[0m\n\u001b[1;32m     19\u001b[0m         \u001b[0;31m# 1)Sample noise as generator input, 2) generate a batch of images, 3) assing a 0 as ground truth\u001b[0m\u001b[0;34m\u001b[0m\u001b[0;34m\u001b[0m\u001b[0;34m\u001b[0m\u001b[0m\n\u001b[1;32m     20\u001b[0m         \u001b[0mz\u001b[0m \u001b[0;34m=\u001b[0m \u001b[0mgenerate_noise\u001b[0m\u001b[0;34m(\u001b[0m\u001b[0mimg\u001b[0m\u001b[0;34m.\u001b[0m\u001b[0msize\u001b[0m\u001b[0;34m(\u001b[0m\u001b[0;36m0\u001b[0m\u001b[0;34m)\u001b[0m\u001b[0;34m,\u001b[0m \u001b[0mnoise_dim\u001b[0m\u001b[0;34m)\u001b[0m\u001b[0;34m.\u001b[0m\u001b[0mto\u001b[0m\u001b[0;34m(\u001b[0m\u001b[0mdevice\u001b[0m\u001b[0;34m)\u001b[0m\u001b[0;34m\u001b[0m\u001b[0;34m\u001b[0m\u001b[0m\n\u001b[0;32m---> 21\u001b[0;31m         \u001b[0mgen_imgs\u001b[0m \u001b[0;34m=\u001b[0m \u001b[0mgenerator\u001b[0m\u001b[0;34m(\u001b[0m\u001b[0mz\u001b[0m\u001b[0;34m)\u001b[0m\u001b[0;34m\u001b[0m\u001b[0;34m\u001b[0m\u001b[0m\n\u001b[0m\u001b[1;32m     22\u001b[0m         \u001b[0mfake\u001b[0m \u001b[0;34m=\u001b[0m \u001b[0mtorch\u001b[0m\u001b[0;34m.\u001b[0m\u001b[0mzeros\u001b[0m\u001b[0;34m(\u001b[0m\u001b[0mimg\u001b[0m\u001b[0;34m.\u001b[0m\u001b[0msize\u001b[0m\u001b[0;34m(\u001b[0m\u001b[0;36m0\u001b[0m\u001b[0;34m)\u001b[0m\u001b[0;34m,\u001b[0m \u001b[0;36m1\u001b[0m\u001b[0;34m,\u001b[0m \u001b[0mrequires_grad\u001b[0m\u001b[0;34m=\u001b[0m\u001b[0;32mFalse\u001b[0m\u001b[0;34m)\u001b[0m\u001b[0;34m.\u001b[0m\u001b[0mto\u001b[0m\u001b[0;34m(\u001b[0m\u001b[0mdevice\u001b[0m\u001b[0;34m)\u001b[0m\u001b[0;34m\u001b[0m\u001b[0;34m\u001b[0m\u001b[0m\n\u001b[1;32m     23\u001b[0m \u001b[0;34m\u001b[0m\u001b[0m\n",
      "\u001b[0;32m/vol/lab/course/416/venv/lib/python3.6/site-packages/torch/nn/modules/module.py\u001b[0m in \u001b[0;36m__call__\u001b[0;34m(self, *input, **kwargs)\u001b[0m\n\u001b[1;32m    487\u001b[0m             \u001b[0mresult\u001b[0m \u001b[0;34m=\u001b[0m \u001b[0mself\u001b[0m\u001b[0;34m.\u001b[0m\u001b[0m_slow_forward\u001b[0m\u001b[0;34m(\u001b[0m\u001b[0;34m*\u001b[0m\u001b[0minput\u001b[0m\u001b[0;34m,\u001b[0m \u001b[0;34m**\u001b[0m\u001b[0mkwargs\u001b[0m\u001b[0;34m)\u001b[0m\u001b[0;34m\u001b[0m\u001b[0;34m\u001b[0m\u001b[0m\n\u001b[1;32m    488\u001b[0m         \u001b[0;32melse\u001b[0m\u001b[0;34m:\u001b[0m\u001b[0;34m\u001b[0m\u001b[0;34m\u001b[0m\u001b[0m\n\u001b[0;32m--> 489\u001b[0;31m             \u001b[0mresult\u001b[0m \u001b[0;34m=\u001b[0m \u001b[0mself\u001b[0m\u001b[0;34m.\u001b[0m\u001b[0mforward\u001b[0m\u001b[0;34m(\u001b[0m\u001b[0;34m*\u001b[0m\u001b[0minput\u001b[0m\u001b[0;34m,\u001b[0m \u001b[0;34m**\u001b[0m\u001b[0mkwargs\u001b[0m\u001b[0;34m)\u001b[0m\u001b[0;34m\u001b[0m\u001b[0;34m\u001b[0m\u001b[0m\n\u001b[0m\u001b[1;32m    490\u001b[0m         \u001b[0;32mfor\u001b[0m \u001b[0mhook\u001b[0m \u001b[0;32min\u001b[0m \u001b[0mself\u001b[0m\u001b[0;34m.\u001b[0m\u001b[0m_forward_hooks\u001b[0m\u001b[0;34m.\u001b[0m\u001b[0mvalues\u001b[0m\u001b[0;34m(\u001b[0m\u001b[0;34m)\u001b[0m\u001b[0;34m:\u001b[0m\u001b[0;34m\u001b[0m\u001b[0;34m\u001b[0m\u001b[0m\n\u001b[1;32m    491\u001b[0m             \u001b[0mhook_result\u001b[0m \u001b[0;34m=\u001b[0m \u001b[0mhook\u001b[0m\u001b[0;34m(\u001b[0m\u001b[0mself\u001b[0m\u001b[0;34m,\u001b[0m \u001b[0minput\u001b[0m\u001b[0;34m,\u001b[0m \u001b[0mresult\u001b[0m\u001b[0;34m)\u001b[0m\u001b[0;34m\u001b[0m\u001b[0;34m\u001b[0m\u001b[0m\n",
      "\u001b[0;32m<ipython-input-7-a2dba78d4699>\u001b[0m in \u001b[0;36mforward\u001b[0;34m(self, x)\u001b[0m\n\u001b[1;32m     27\u001b[0m \u001b[0;34m\u001b[0m\u001b[0m\n\u001b[1;32m     28\u001b[0m     \u001b[0;32mdef\u001b[0m \u001b[0mforward\u001b[0m\u001b[0;34m(\u001b[0m\u001b[0mself\u001b[0m\u001b[0;34m,\u001b[0m \u001b[0mx\u001b[0m\u001b[0;34m)\u001b[0m\u001b[0;34m:\u001b[0m\u001b[0;34m\u001b[0m\u001b[0;34m\u001b[0m\u001b[0m\n\u001b[0;32m---> 29\u001b[0;31m         \u001b[0mx\u001b[0m \u001b[0;34m=\u001b[0m \u001b[0mself\u001b[0m\u001b[0;34m.\u001b[0m\u001b[0mhidden0\u001b[0m\u001b[0;34m(\u001b[0m\u001b[0mx\u001b[0m\u001b[0;34m)\u001b[0m\u001b[0;34m\u001b[0m\u001b[0;34m\u001b[0m\u001b[0m\n\u001b[0m\u001b[1;32m     30\u001b[0m         \u001b[0mx\u001b[0m \u001b[0;34m=\u001b[0m \u001b[0mself\u001b[0m\u001b[0;34m.\u001b[0m\u001b[0mhidden1\u001b[0m\u001b[0;34m(\u001b[0m\u001b[0mx\u001b[0m\u001b[0;34m)\u001b[0m\u001b[0;34m\u001b[0m\u001b[0;34m\u001b[0m\u001b[0m\n\u001b[1;32m     31\u001b[0m         \u001b[0mx\u001b[0m \u001b[0;34m=\u001b[0m \u001b[0mself\u001b[0m\u001b[0;34m.\u001b[0m\u001b[0mhidden2\u001b[0m\u001b[0;34m(\u001b[0m\u001b[0mx\u001b[0m\u001b[0;34m)\u001b[0m\u001b[0;34m\u001b[0m\u001b[0;34m\u001b[0m\u001b[0m\n",
      "\u001b[0;32m/vol/lab/course/416/venv/lib/python3.6/site-packages/torch/nn/modules/module.py\u001b[0m in \u001b[0;36m__call__\u001b[0;34m(self, *input, **kwargs)\u001b[0m\n\u001b[1;32m    487\u001b[0m             \u001b[0mresult\u001b[0m \u001b[0;34m=\u001b[0m \u001b[0mself\u001b[0m\u001b[0;34m.\u001b[0m\u001b[0m_slow_forward\u001b[0m\u001b[0;34m(\u001b[0m\u001b[0;34m*\u001b[0m\u001b[0minput\u001b[0m\u001b[0;34m,\u001b[0m \u001b[0;34m**\u001b[0m\u001b[0mkwargs\u001b[0m\u001b[0;34m)\u001b[0m\u001b[0;34m\u001b[0m\u001b[0;34m\u001b[0m\u001b[0m\n\u001b[1;32m    488\u001b[0m         \u001b[0;32melse\u001b[0m\u001b[0;34m:\u001b[0m\u001b[0;34m\u001b[0m\u001b[0;34m\u001b[0m\u001b[0m\n\u001b[0;32m--> 489\u001b[0;31m             \u001b[0mresult\u001b[0m \u001b[0;34m=\u001b[0m \u001b[0mself\u001b[0m\u001b[0;34m.\u001b[0m\u001b[0mforward\u001b[0m\u001b[0;34m(\u001b[0m\u001b[0;34m*\u001b[0m\u001b[0minput\u001b[0m\u001b[0;34m,\u001b[0m \u001b[0;34m**\u001b[0m\u001b[0mkwargs\u001b[0m\u001b[0;34m)\u001b[0m\u001b[0;34m\u001b[0m\u001b[0;34m\u001b[0m\u001b[0m\n\u001b[0m\u001b[1;32m    490\u001b[0m         \u001b[0;32mfor\u001b[0m \u001b[0mhook\u001b[0m \u001b[0;32min\u001b[0m \u001b[0mself\u001b[0m\u001b[0;34m.\u001b[0m\u001b[0m_forward_hooks\u001b[0m\u001b[0;34m.\u001b[0m\u001b[0mvalues\u001b[0m\u001b[0;34m(\u001b[0m\u001b[0;34m)\u001b[0m\u001b[0;34m:\u001b[0m\u001b[0;34m\u001b[0m\u001b[0;34m\u001b[0m\u001b[0m\n\u001b[1;32m    491\u001b[0m             \u001b[0mhook_result\u001b[0m \u001b[0;34m=\u001b[0m \u001b[0mhook\u001b[0m\u001b[0;34m(\u001b[0m\u001b[0mself\u001b[0m\u001b[0;34m,\u001b[0m \u001b[0minput\u001b[0m\u001b[0;34m,\u001b[0m \u001b[0mresult\u001b[0m\u001b[0;34m)\u001b[0m\u001b[0;34m\u001b[0m\u001b[0;34m\u001b[0m\u001b[0m\n",
      "\u001b[0;32m/vol/lab/course/416/venv/lib/python3.6/site-packages/torch/nn/modules/container.py\u001b[0m in \u001b[0;36mforward\u001b[0;34m(self, input)\u001b[0m\n\u001b[1;32m     90\u001b[0m     \u001b[0;32mdef\u001b[0m \u001b[0mforward\u001b[0m\u001b[0;34m(\u001b[0m\u001b[0mself\u001b[0m\u001b[0;34m,\u001b[0m \u001b[0minput\u001b[0m\u001b[0;34m)\u001b[0m\u001b[0;34m:\u001b[0m\u001b[0;34m\u001b[0m\u001b[0;34m\u001b[0m\u001b[0m\n\u001b[1;32m     91\u001b[0m         \u001b[0;32mfor\u001b[0m \u001b[0mmodule\u001b[0m \u001b[0;32min\u001b[0m \u001b[0mself\u001b[0m\u001b[0;34m.\u001b[0m\u001b[0m_modules\u001b[0m\u001b[0;34m.\u001b[0m\u001b[0mvalues\u001b[0m\u001b[0;34m(\u001b[0m\u001b[0;34m)\u001b[0m\u001b[0;34m:\u001b[0m\u001b[0;34m\u001b[0m\u001b[0;34m\u001b[0m\u001b[0m\n\u001b[0;32m---> 92\u001b[0;31m             \u001b[0minput\u001b[0m \u001b[0;34m=\u001b[0m \u001b[0mmodule\u001b[0m\u001b[0;34m(\u001b[0m\u001b[0minput\u001b[0m\u001b[0;34m)\u001b[0m\u001b[0;34m\u001b[0m\u001b[0;34m\u001b[0m\u001b[0m\n\u001b[0m\u001b[1;32m     93\u001b[0m         \u001b[0;32mreturn\u001b[0m \u001b[0minput\u001b[0m\u001b[0;34m\u001b[0m\u001b[0;34m\u001b[0m\u001b[0m\n\u001b[1;32m     94\u001b[0m \u001b[0;34m\u001b[0m\u001b[0m\n",
      "\u001b[0;32m/vol/lab/course/416/venv/lib/python3.6/site-packages/torch/nn/modules/module.py\u001b[0m in \u001b[0;36m__call__\u001b[0;34m(self, *input, **kwargs)\u001b[0m\n\u001b[1;32m    487\u001b[0m             \u001b[0mresult\u001b[0m \u001b[0;34m=\u001b[0m \u001b[0mself\u001b[0m\u001b[0;34m.\u001b[0m\u001b[0m_slow_forward\u001b[0m\u001b[0;34m(\u001b[0m\u001b[0;34m*\u001b[0m\u001b[0minput\u001b[0m\u001b[0;34m,\u001b[0m \u001b[0;34m**\u001b[0m\u001b[0mkwargs\u001b[0m\u001b[0;34m)\u001b[0m\u001b[0;34m\u001b[0m\u001b[0;34m\u001b[0m\u001b[0m\n\u001b[1;32m    488\u001b[0m         \u001b[0;32melse\u001b[0m\u001b[0;34m:\u001b[0m\u001b[0;34m\u001b[0m\u001b[0;34m\u001b[0m\u001b[0m\n\u001b[0;32m--> 489\u001b[0;31m             \u001b[0mresult\u001b[0m \u001b[0;34m=\u001b[0m \u001b[0mself\u001b[0m\u001b[0;34m.\u001b[0m\u001b[0mforward\u001b[0m\u001b[0;34m(\u001b[0m\u001b[0;34m*\u001b[0m\u001b[0minput\u001b[0m\u001b[0;34m,\u001b[0m \u001b[0;34m**\u001b[0m\u001b[0mkwargs\u001b[0m\u001b[0;34m)\u001b[0m\u001b[0;34m\u001b[0m\u001b[0;34m\u001b[0m\u001b[0m\n\u001b[0m\u001b[1;32m    490\u001b[0m         \u001b[0;32mfor\u001b[0m \u001b[0mhook\u001b[0m \u001b[0;32min\u001b[0m \u001b[0mself\u001b[0m\u001b[0;34m.\u001b[0m\u001b[0m_forward_hooks\u001b[0m\u001b[0;34m.\u001b[0m\u001b[0mvalues\u001b[0m\u001b[0;34m(\u001b[0m\u001b[0;34m)\u001b[0m\u001b[0;34m:\u001b[0m\u001b[0;34m\u001b[0m\u001b[0;34m\u001b[0m\u001b[0m\n\u001b[1;32m    491\u001b[0m             \u001b[0mhook_result\u001b[0m \u001b[0;34m=\u001b[0m \u001b[0mhook\u001b[0m\u001b[0;34m(\u001b[0m\u001b[0mself\u001b[0m\u001b[0;34m,\u001b[0m \u001b[0minput\u001b[0m\u001b[0;34m,\u001b[0m \u001b[0mresult\u001b[0m\u001b[0;34m)\u001b[0m\u001b[0;34m\u001b[0m\u001b[0;34m\u001b[0m\u001b[0m\n",
      "\u001b[0;32m/vol/lab/course/416/venv/lib/python3.6/site-packages/torch/nn/modules/linear.py\u001b[0m in \u001b[0;36mforward\u001b[0;34m(self, input)\u001b[0m\n\u001b[1;32m     65\u001b[0m     \u001b[0;34m@\u001b[0m\u001b[0mweak_script_method\u001b[0m\u001b[0;34m\u001b[0m\u001b[0;34m\u001b[0m\u001b[0m\n\u001b[1;32m     66\u001b[0m     \u001b[0;32mdef\u001b[0m \u001b[0mforward\u001b[0m\u001b[0;34m(\u001b[0m\u001b[0mself\u001b[0m\u001b[0;34m,\u001b[0m \u001b[0minput\u001b[0m\u001b[0;34m)\u001b[0m\u001b[0;34m:\u001b[0m\u001b[0;34m\u001b[0m\u001b[0;34m\u001b[0m\u001b[0m\n\u001b[0;32m---> 67\u001b[0;31m         \u001b[0;32mreturn\u001b[0m \u001b[0mF\u001b[0m\u001b[0;34m.\u001b[0m\u001b[0mlinear\u001b[0m\u001b[0;34m(\u001b[0m\u001b[0minput\u001b[0m\u001b[0;34m,\u001b[0m \u001b[0mself\u001b[0m\u001b[0;34m.\u001b[0m\u001b[0mweight\u001b[0m\u001b[0;34m,\u001b[0m \u001b[0mself\u001b[0m\u001b[0;34m.\u001b[0m\u001b[0mbias\u001b[0m\u001b[0;34m)\u001b[0m\u001b[0;34m\u001b[0m\u001b[0;34m\u001b[0m\u001b[0m\n\u001b[0m\u001b[1;32m     68\u001b[0m \u001b[0;34m\u001b[0m\u001b[0m\n\u001b[1;32m     69\u001b[0m     \u001b[0;32mdef\u001b[0m \u001b[0mextra_repr\u001b[0m\u001b[0;34m(\u001b[0m\u001b[0mself\u001b[0m\u001b[0;34m)\u001b[0m\u001b[0;34m:\u001b[0m\u001b[0;34m\u001b[0m\u001b[0;34m\u001b[0m\u001b[0m\n",
      "\u001b[0;32m/vol/lab/course/416/venv/lib/python3.6/site-packages/torch/nn/functional.py\u001b[0m in \u001b[0;36mlinear\u001b[0;34m(input, weight, bias)\u001b[0m\n\u001b[1;32m   1350\u001b[0m     \u001b[0;32mif\u001b[0m \u001b[0minput\u001b[0m\u001b[0;34m.\u001b[0m\u001b[0mdim\u001b[0m\u001b[0;34m(\u001b[0m\u001b[0;34m)\u001b[0m \u001b[0;34m==\u001b[0m \u001b[0;36m2\u001b[0m \u001b[0;32mand\u001b[0m \u001b[0mbias\u001b[0m \u001b[0;32mis\u001b[0m \u001b[0;32mnot\u001b[0m \u001b[0;32mNone\u001b[0m\u001b[0;34m:\u001b[0m\u001b[0;34m\u001b[0m\u001b[0;34m\u001b[0m\u001b[0m\n\u001b[1;32m   1351\u001b[0m         \u001b[0;31m# fused op is marginally faster\u001b[0m\u001b[0;34m\u001b[0m\u001b[0;34m\u001b[0m\u001b[0;34m\u001b[0m\u001b[0m\n\u001b[0;32m-> 1352\u001b[0;31m         \u001b[0mret\u001b[0m \u001b[0;34m=\u001b[0m \u001b[0mtorch\u001b[0m\u001b[0;34m.\u001b[0m\u001b[0maddmm\u001b[0m\u001b[0;34m(\u001b[0m\u001b[0mtorch\u001b[0m\u001b[0;34m.\u001b[0m\u001b[0mjit\u001b[0m\u001b[0;34m.\u001b[0m\u001b[0m_unwrap_optional\u001b[0m\u001b[0;34m(\u001b[0m\u001b[0mbias\u001b[0m\u001b[0;34m)\u001b[0m\u001b[0;34m,\u001b[0m \u001b[0minput\u001b[0m\u001b[0;34m,\u001b[0m \u001b[0mweight\u001b[0m\u001b[0;34m.\u001b[0m\u001b[0mt\u001b[0m\u001b[0;34m(\u001b[0m\u001b[0;34m)\u001b[0m\u001b[0;34m)\u001b[0m\u001b[0;34m\u001b[0m\u001b[0;34m\u001b[0m\u001b[0m\n\u001b[0m\u001b[1;32m   1353\u001b[0m     \u001b[0;32melse\u001b[0m\u001b[0;34m:\u001b[0m\u001b[0;34m\u001b[0m\u001b[0;34m\u001b[0m\u001b[0m\n\u001b[1;32m   1354\u001b[0m         \u001b[0moutput\u001b[0m \u001b[0;34m=\u001b[0m \u001b[0minput\u001b[0m\u001b[0;34m.\u001b[0m\u001b[0mmatmul\u001b[0m\u001b[0;34m(\u001b[0m\u001b[0mweight\u001b[0m\u001b[0;34m.\u001b[0m\u001b[0mt\u001b[0m\u001b[0;34m(\u001b[0m\u001b[0;34m)\u001b[0m\u001b[0;34m)\u001b[0m\u001b[0;34m\u001b[0m\u001b[0;34m\u001b[0m\u001b[0m\n",
      "\u001b[0;31mRuntimeError\u001b[0m: CUDA error: no kernel image is available for execution on the device"
=======
     "name": "stdout",
     "output_type": "stream",
     "text": [
      "epoch [1/100], generator loss:7.1114\n",
      "epoch [1/100], discriminator loss:0.2447\n",
      "epoch [2/100], generator loss:13.1800\n",
      "epoch [2/100], discriminator loss:0.1112\n",
      "epoch [3/100], generator loss:6.1448\n",
      "epoch [3/100], discriminator loss:0.3026\n",
      "epoch [4/100], generator loss:6.6215\n",
      "epoch [4/100], discriminator loss:0.1855\n",
      "epoch [5/100], generator loss:6.2089\n",
      "epoch [5/100], discriminator loss:0.1152\n",
      "epoch [6/100], generator loss:8.0146\n",
      "epoch [6/100], discriminator loss:0.1457\n",
      "epoch [7/100], generator loss:7.8418\n",
      "epoch [7/100], discriminator loss:0.1160\n",
      "epoch [8/100], generator loss:8.4121\n",
      "epoch [8/100], discriminator loss:0.1220\n",
      "epoch [9/100], generator loss:7.8276\n",
      "epoch [9/100], discriminator loss:0.1823\n",
      "epoch [10/100], generator loss:7.6995\n",
      "epoch [10/100], discriminator loss:0.1438\n",
      "epoch [11/100], generator loss:6.8888\n",
      "epoch [11/100], discriminator loss:0.1369\n",
      "epoch [12/100], generator loss:6.6466\n",
      "epoch [12/100], discriminator loss:0.1740\n",
      "epoch [13/100], generator loss:6.5835\n",
      "epoch [13/100], discriminator loss:0.1399\n",
      "epoch [14/100], generator loss:6.4843\n",
      "epoch [14/100], discriminator loss:0.1573\n",
      "epoch [15/100], generator loss:6.5422\n",
      "epoch [15/100], discriminator loss:0.1394\n",
      "epoch [16/100], generator loss:7.1661\n",
      "epoch [16/100], discriminator loss:0.1839\n",
      "epoch [17/100], generator loss:6.5917\n",
      "epoch [17/100], discriminator loss:0.1581\n",
      "epoch [18/100], generator loss:5.9981\n",
      "epoch [18/100], discriminator loss:0.1659\n",
      "epoch [19/100], generator loss:5.2891\n",
      "epoch [19/100], discriminator loss:0.1988\n",
      "epoch [20/100], generator loss:5.2811\n",
      "epoch [20/100], discriminator loss:0.1859\n",
      "epoch [21/100], generator loss:4.9551\n",
      "epoch [21/100], discriminator loss:0.1965\n",
      "epoch [22/100], generator loss:4.7660\n",
      "epoch [22/100], discriminator loss:0.1932\n",
      "epoch [23/100], generator loss:4.4357\n",
      "epoch [23/100], discriminator loss:0.2398\n",
      "epoch [24/100], generator loss:4.3602\n",
      "epoch [24/100], discriminator loss:0.2282\n",
      "epoch [25/100], generator loss:4.1522\n",
      "epoch [25/100], discriminator loss:0.2818\n",
      "epoch [26/100], generator loss:4.0667\n",
      "epoch [26/100], discriminator loss:0.2642\n",
      "epoch [27/100], generator loss:4.1245\n",
      "epoch [27/100], discriminator loss:0.2575\n",
      "epoch [28/100], generator loss:3.8106\n",
      "epoch [28/100], discriminator loss:0.3204\n",
      "epoch [29/100], generator loss:3.6885\n",
      "epoch [29/100], discriminator loss:0.3109\n",
      "epoch [30/100], generator loss:3.5300\n",
      "epoch [30/100], discriminator loss:0.3528\n",
      "epoch [31/100], generator loss:3.3566\n",
      "epoch [31/100], discriminator loss:0.3775\n",
      "epoch [32/100], generator loss:3.4024\n",
      "epoch [32/100], discriminator loss:0.3965\n",
      "epoch [33/100], generator loss:3.6549\n",
      "epoch [33/100], discriminator loss:0.4024\n",
      "epoch [34/100], generator loss:3.2426\n",
      "epoch [34/100], discriminator loss:0.4143\n",
      "epoch [35/100], generator loss:3.0623\n",
      "epoch [35/100], discriminator loss:0.4267\n",
      "epoch [36/100], generator loss:3.3681\n",
      "epoch [36/100], discriminator loss:0.4291\n",
      "epoch [37/100], generator loss:2.9609\n",
      "epoch [37/100], discriminator loss:0.4355\n",
      "epoch [38/100], generator loss:2.6462\n",
      "epoch [38/100], discriminator loss:0.4999\n",
      "epoch [39/100], generator loss:2.5560\n",
      "epoch [39/100], discriminator loss:0.5277\n",
      "epoch [40/100], generator loss:2.5408\n",
      "epoch [40/100], discriminator loss:0.5094\n",
      "epoch [41/100], generator loss:2.5973\n",
      "epoch [41/100], discriminator loss:0.5174\n",
      "epoch [42/100], generator loss:2.6360\n",
      "epoch [42/100], discriminator loss:0.5276\n",
      "epoch [43/100], generator loss:2.6727\n",
      "epoch [43/100], discriminator loss:0.5274\n",
      "epoch [44/100], generator loss:2.5667\n",
      "epoch [44/100], discriminator loss:0.5202\n",
      "epoch [45/100], generator loss:2.5312\n",
      "epoch [45/100], discriminator loss:0.5390\n",
      "epoch [46/100], generator loss:2.5195\n",
      "epoch [46/100], discriminator loss:0.5567\n",
      "epoch [47/100], generator loss:2.3995\n",
      "epoch [47/100], discriminator loss:0.5956\n",
      "epoch [48/100], generator loss:2.3169\n",
      "epoch [48/100], discriminator loss:0.6144\n",
      "epoch [49/100], generator loss:2.2685\n",
      "epoch [49/100], discriminator loss:0.6450\n",
      "epoch [50/100], generator loss:2.2648\n",
      "epoch [50/100], discriminator loss:0.6363\n",
      "epoch [51/100], generator loss:2.3222\n",
      "epoch [51/100], discriminator loss:0.6552\n",
      "epoch [52/100], generator loss:2.2441\n",
      "epoch [52/100], discriminator loss:0.6489\n",
      "epoch [53/100], generator loss:2.2328\n",
      "epoch [53/100], discriminator loss:0.6578\n",
      "epoch [54/100], generator loss:2.1816\n",
      "epoch [54/100], discriminator loss:0.6637\n",
      "epoch [55/100], generator loss:2.2652\n",
      "epoch [55/100], discriminator loss:0.6687\n",
      "epoch [56/100], generator loss:2.1035\n",
      "epoch [56/100], discriminator loss:0.6885\n",
      "epoch [57/100], generator loss:2.0427\n",
      "epoch [57/100], discriminator loss:0.6948\n",
      "epoch [58/100], generator loss:2.0209\n",
      "epoch [58/100], discriminator loss:0.6939\n",
      "epoch [59/100], generator loss:2.0384\n",
      "epoch [59/100], discriminator loss:0.6968\n",
      "epoch [60/100], generator loss:2.0171\n",
      "epoch [60/100], discriminator loss:0.6951\n",
      "epoch [61/100], generator loss:1.9531\n",
      "epoch [61/100], discriminator loss:0.7188\n",
      "epoch [62/100], generator loss:1.9262\n",
      "epoch [62/100], discriminator loss:0.7251\n",
      "epoch [63/100], generator loss:1.9292\n",
      "epoch [63/100], discriminator loss:0.7298\n",
      "epoch [64/100], generator loss:1.9038\n",
      "epoch [64/100], discriminator loss:0.7403\n",
      "epoch [65/100], generator loss:1.8768\n",
      "epoch [65/100], discriminator loss:0.7635\n",
      "epoch [66/100], generator loss:1.8979\n",
      "epoch [66/100], discriminator loss:0.7624\n",
      "epoch [67/100], generator loss:1.8635\n",
      "epoch [67/100], discriminator loss:0.7722\n",
      "epoch [68/100], generator loss:1.9054\n",
      "epoch [68/100], discriminator loss:0.7683\n",
      "epoch [69/100], generator loss:1.8736\n",
      "epoch [69/100], discriminator loss:0.7819\n",
      "epoch [70/100], generator loss:1.8573\n",
      "epoch [70/100], discriminator loss:0.7871\n",
      "epoch [71/100], generator loss:1.8356\n",
      "epoch [71/100], discriminator loss:0.7771\n",
      "epoch [72/100], generator loss:1.7445\n",
      "epoch [72/100], discriminator loss:0.8106\n",
      "epoch [73/100], generator loss:1.7451\n",
      "epoch [73/100], discriminator loss:0.8239\n",
      "epoch [74/100], generator loss:1.7738\n",
      "epoch [74/100], discriminator loss:0.8082\n",
      "epoch [75/100], generator loss:1.7050\n",
      "epoch [75/100], discriminator loss:0.8076\n",
      "epoch [76/100], generator loss:1.7381\n",
      "epoch [76/100], discriminator loss:0.8024\n",
      "epoch [77/100], generator loss:1.7176\n",
      "epoch [77/100], discriminator loss:0.8078\n",
      "epoch [78/100], generator loss:1.7569\n",
      "epoch [78/100], discriminator loss:0.8098\n",
      "epoch [79/100], generator loss:1.7461\n",
      "epoch [79/100], discriminator loss:0.8060\n",
      "epoch [80/100], generator loss:1.7379\n",
      "epoch [80/100], discriminator loss:0.8150\n",
      "epoch [81/100], generator loss:1.7190\n",
      "epoch [81/100], discriminator loss:0.8216\n",
      "epoch [82/100], generator loss:1.6768\n",
      "epoch [82/100], discriminator loss:0.8242\n",
      "epoch [83/100], generator loss:1.7073\n",
      "epoch [83/100], discriminator loss:0.8215\n",
      "epoch [84/100], generator loss:1.6944\n",
      "epoch [84/100], discriminator loss:0.8412\n",
      "epoch [85/100], generator loss:1.6526\n",
      "epoch [85/100], discriminator loss:0.8429\n",
      "epoch [86/100], generator loss:1.6230\n",
      "epoch [86/100], discriminator loss:0.8411\n",
      "epoch [87/100], generator loss:1.6468\n",
      "epoch [87/100], discriminator loss:0.8452\n",
      "epoch [88/100], generator loss:1.6267\n",
      "epoch [88/100], discriminator loss:0.8579\n",
      "epoch [89/100], generator loss:1.6163\n",
      "epoch [89/100], discriminator loss:0.8686\n",
      "epoch [90/100], generator loss:1.5831\n",
      "epoch [90/100], discriminator loss:0.8575\n",
      "epoch [91/100], generator loss:1.6187\n",
      "epoch [91/100], discriminator loss:0.8715\n",
      "epoch [92/100], generator loss:1.5945\n",
      "epoch [92/100], discriminator loss:0.8793\n",
      "epoch [93/100], generator loss:1.6072\n",
      "epoch [93/100], discriminator loss:0.8723\n",
      "epoch [94/100], generator loss:1.5485\n",
      "epoch [94/100], discriminator loss:0.8759\n",
      "epoch [95/100], generator loss:1.5643\n",
      "epoch [95/100], discriminator loss:0.8756\n",
      "epoch [96/100], generator loss:1.6048\n",
      "epoch [96/100], discriminator loss:0.8797\n",
      "epoch [97/100], generator loss:1.5362\n",
      "epoch [97/100], discriminator loss:0.9069\n",
      "epoch [98/100], generator loss:1.5446\n",
      "epoch [98/100], discriminator loss:0.8877\n",
      "epoch [99/100], generator loss:1.5620\n",
      "epoch [99/100], discriminator loss:0.8900\n",
      "epoch [100/100], generator loss:1.5634\n",
      "epoch [100/100], discriminator loss:0.8887\n"
>>>>>>> 6c392617455d62191e43de814e698e67c9a1d53a
     ]
    }
   ],
   "source": [
    "g_losses = []\n",
    "d_losses = []\n",
    "generator.train()\n",
    "discriminator.train()\n",
    "num_epochs = 100 \n",
    "\n",
    "fixed_noise = generate_noise(batch_size, noise_dim)\n",
    "\n",
    "for epoch in range(num_epochs):\n",
    "    g_loss_epoch = 0\n",
    "    d_loss_epoch = 0 \n",
    "    for batch_idx, data in enumerate(train_loader):\n",
    "        \n",
    "        img, _ = data\n",
    "        # 1) sample some real data, 2) assign a 1 as ground truth\n",
    "        img = img.to(device)\n",
    "        valid = torch.ones(img.size(0), 1, requires_grad=False).to(device)\n",
    "        \n",
    "        # 1)Sample noise as generator input, 2) generate a batch of images, 3) assing a 0 as ground truth\n",
    "        z = generate_noise(img.size(0), noise_dim).to(device)\n",
    "        gen_imgs = generator(z)\n",
    "        fake = torch.zeros(img.size(0), 1, requires_grad=False).to(device)\n",
    "        \n",
    "        # ---------------------\n",
    "        #  Train Discriminator\n",
    "        # ---------------------\n",
    "        optimizer_D.zero_grad()\n",
    "\n",
    "        # Measure discriminator's ability to classify real from generated samples\n",
<<<<<<< HEAD
    "        real_loss = loss_function(discriminator(img), valid)\n",
=======
    "        real_loss = loss_function (discriminator(img), valid)\n",
>>>>>>> 6c392617455d62191e43de814e698e67c9a1d53a
    "        fake_loss = loss_function(discriminator(gen_imgs.detach()), fake)\n",
    "        d_loss = real_loss + fake_loss\n",
    "\n",
    "        d_loss.backward()\n",
    "        d_loss_epoch += d_loss.item()\n",
    "        optimizer_D.step()\n",
    "\n",
    "        # -----------------\n",
    "        #  Train Generator\n",
    "        # -----------------\n",
    "\n",
    "        optimizer_G.zero_grad()\n",
    "\n",
    "        # Loss measures generator's ability to fool the discriminator\n",
    "        g_loss = loss_function(discriminator(gen_imgs), valid)\n",
    "\n",
    "        g_loss.backward()\n",
    "        g_loss_epoch += g_loss.item()\n",
    "        optimizer_G.step()\n",
    "\n",
    "\n",
    "    print('epoch [{}/{}], generator loss:{:.4f}'\n",
    "          .format(epoch + 1, num_epochs, g_loss_epoch / len(train_loader)))\n",
    "    g_losses.append(g_loss_epoch/ len(train_loader))\n",
    "    print('epoch [{}/{}], discriminator loss:{:.4f}'\n",
    "          .format(epoch + 1, num_epochs, d_loss_epoch / len(train_loader)))\n",
    "    d_losses.append(d_loss_epoch/ len(train_loader))\n",
    "    if epoch % sample_interval == 0:\n",
    "        save_image(denorm(generator(fixed_noise.to(device))).cpu(), './GAN/samples_epoch_{}.png'.format(epoch),nrow = 8)\n",
    "    torch.save(generator.state_dict(), './GAN/generator.pth')\n",
    "    torch.save(discriminator.state_dict(), './GAN/discriminator.pth')\n",
    "    \n",
    "np.save('./GAN/generator_losses.npy', np.array(g_losses))\n",
    "np.save('./GAN/discriminator_losses.npy', np.array(d_losses))"
   ]
  },
  {
   "cell_type": "markdown",
   "metadata": {},
   "source": [
    "### Loss curves"
   ]
  },
  {
   "cell_type": "code",
<<<<<<< HEAD
   "execution_count": null,
   "metadata": {
    "scrolled": true
   },
   "outputs": [],
=======
   "execution_count": 14,
   "metadata": {
    "scrolled": true
   },
   "outputs": [
    {
     "data": {
      "image/png": "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\n",
      "text/plain": [
       "<Figure size 432x288 with 1 Axes>"
      ]
     },
     "metadata": {
      "needs_background": "light"
     },
     "output_type": "display_data"
    },
    {
     "data": {
      "image/png": "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\n",
      "text/plain": [
       "<Figure size 432x288 with 1 Axes>"
      ]
     },
     "metadata": {
      "needs_background": "light"
     },
     "output_type": "display_data"
    }
   ],
>>>>>>> 6c392617455d62191e43de814e698e67c9a1d53a
   "source": [
    "import matplotlib.pyplot as plt\n",
    "\n",
    "generator_losses = np.load('./GAN/generator_losses.npy')\n",
    "plt.plot(list(range(0,generator_losses.shape[0])), generator_losses)\n",
    "plt.title('Generator Loss')\n",
    "plt.show()\n",
    "\n",
    "import matplotlib.pyplot as plt\n",
    "discriminator_losses = np.load('./GAN/discriminator_losses.npy')\n",
    "plt.plot(list(range(0,discriminator_losses.shape[0])), discriminator_losses)\n",
    "plt.title('Discriminator Loss')\n",
    "plt.show()"
   ]
  },
  {
   "cell_type": "markdown",
   "metadata": {},
   "source": [
    "### Sampling"
   ]
  },
  {
   "cell_type": "code",
<<<<<<< HEAD
   "execution_count": null,
=======
   "execution_count": 15,
>>>>>>> 6c392617455d62191e43de814e698e67c9a1d53a
   "metadata": {},
   "outputs": [],
   "source": [
    "generator.load_state_dict(torch.load(\"./GAN/generator.pth\"))\n",
    "\n",
    "generator.eval()\n",
    "n_samples = 32\n",
    "with torch.no_grad():\n",
    "    z = generate_noise(n_samples*n_samples, noise_dim).to(device)\n",
    "    samples = generator(z)\n",
    "    save_image(denorm(samples).type(torch.FloatTensor).cpu(), './GAN/samples' + '.png',nrow = n_samples)\n"
   ]
  },
  {
   "cell_type": "markdown",
   "metadata": {},
   "source": [
    "## Conditional GAN"
   ]
  },
  {
   "cell_type": "markdown",
   "metadata": {},
   "source": [
    "The concept of conditional GAN: \n",
    "\n",
    "* $\\mathbf{x}$ refers to a train datum\n",
    "* $\\mathbf{y}$ refers to the corresponding label\n",
    "* $\\mathbf{z}$ refers to random noise vector\n",
    "<img src=\"./imgs/cGAN.png\" width=\"500\" />"
   ]
  },
  {
   "cell_type": "markdown",
   "metadata": {},
   "source": [
    "### Hyper-parameter selection"
   ]
  },
  {
   "cell_type": "code",
<<<<<<< HEAD
   "execution_count": null,
=======
   "execution_count": 16,
>>>>>>> 6c392617455d62191e43de814e698e67c9a1d53a
   "metadata": {},
   "outputs": [],
   "source": [
    "num_epochs = 20\n",
    "batch_size = 128\n",
    "\n",
    "learning_rate = 0.0002\n",
    "beta_1 = 0.5\n",
    "beta_2 = 0.999\n",
    "\n",
    "latent_dim = 128\n",
    "num_classes = 10\n",
    "\n",
    "num_workers = 16\n",
    "sample_interval = 2"
   ]
  },
  {
   "cell_type": "markdown",
   "metadata": {},
   "source": [
    "### Define the dataloaders"
   ]
  },
  {
   "cell_type": "code",
<<<<<<< HEAD
   "execution_count": null,
=======
   "execution_count": 17,
>>>>>>> 6c392617455d62191e43de814e698e67c9a1d53a
   "metadata": {},
   "outputs": [],
   "source": [
    "train_loader = DataLoader(train_dat, batch_size, shuffle=True, num_workers=num_workers)\n",
    "test_loader = DataLoader(test_dat, batch_size, shuffle=False, num_workers=num_workers)\n",
    "total_step = len(train_loader)\n",
    "\n",
    "it = iter(test_loader)\n",
    "sample_inputs, _ = next(it)\n",
    "\n",
    "in_dim = sample_inputs.shape[-1] * sample_inputs.shape[-2]"
   ]
  },
  {
   "cell_type": "markdown",
   "metadata": {},
   "source": [
    "### Define the Generator (G)"
   ]
  },
  {
   "cell_type": "code",
<<<<<<< HEAD
   "execution_count": null,
=======
   "execution_count": 18,
>>>>>>> 6c392617455d62191e43de814e698e67c9a1d53a
   "metadata": {},
   "outputs": [],
   "source": [
    "class Generator(nn.Module):\n",
    "    def __init__(self, latent_dim=128, image_size=784):\n",
    "        super(Generator, self).__init__()\n",
    "        self.fc1_1 = nn.Linear(latent_dim, 256)  # accounts for the noise z\n",
    "        self.fc1_1_bn = nn.BatchNorm1d(256)\n",
    "        self.fc1_2 = nn.Linear(10, 256)  # accounts for the labels\n",
    "        self.fc1_2_bn = nn.BatchNorm1d(256)\n",
    "        self.fc2 = nn.Linear(512, 512)\n",
    "        self.fc2_bn = nn.BatchNorm1d(512)\n",
    "        self.fc3 = nn.Linear(512, 1024)\n",
    "        self.fc3_bn = nn.BatchNorm1d(1024)\n",
    "        self.fc4 = nn.Linear(1024, image_size)\n",
    "\n",
    "    def forward(self, noise, labels):\n",
    "        x = F.relu(self.fc1_1_bn(self.fc1_1(noise)))\n",
    "        y = F.relu(self.fc1_2_bn(self.fc1_2(labels)))\n",
    "        x = torch.cat([x, y], 1)\n",
    "        x = F.relu(self.fc2_bn(self.fc2(x)))\n",
    "        x = F.relu(self.fc3_bn(self.fc3(x)))\n",
    "        x = torch.tanh(self.fc4(x))\n",
    "\n",
    "        return x"
   ]
  },
  {
   "cell_type": "markdown",
   "metadata": {},
   "source": [
    "### Define the Discriminator (D)"
   ]
  },
  {
   "cell_type": "code",
<<<<<<< HEAD
   "execution_count": null,
=======
   "execution_count": 19,
>>>>>>> 6c392617455d62191e43de814e698e67c9a1d53a
   "metadata": {},
   "outputs": [],
   "source": [
    "class Discriminator(nn.Module):\n",
    "    def __init__(self, image_size=784):\n",
    "        super(Discriminator, self).__init__()\n",
    "        self.fc1_1 = nn.Linear(image_size, 1024)\n",
    "        self.fc1_2 = nn.Linear(10, 1024)\n",
    "        self.fc2 = nn.Linear(2048, 512)\n",
    "        self.fc2_bn = nn.BatchNorm1d(512)\n",
    "        self.fc3 = nn.Linear(512, 256)\n",
    "        self.fc3_bn = nn.BatchNorm1d(256)\n",
    "        self.fc4 = nn.Linear(256, 1)\n",
    "\n",
    "    def forward(self, images, labels):\n",
    "        x = F.leaky_relu(self.fc1_1(images), 0.2)\n",
    "        y = F.leaky_relu(self.fc1_2(labels), 0.2)\n",
    "        x = torch.cat([x, y], 1)\n",
    "        x = F.leaky_relu(self.fc2_bn(self.fc2(x)), 0.2)\n",
    "        x = F.leaky_relu(self.fc3_bn(self.fc3(x)), 0.2)\n",
    "        x = torch.sigmoid(self.fc4(x))\n",
    "\n",
    "        return x"
   ]
  },
  {
   "cell_type": "code",
<<<<<<< HEAD
   "execution_count": null,
=======
   "execution_count": 20,
>>>>>>> 6c392617455d62191e43de814e698e67c9a1d53a
   "metadata": {},
   "outputs": [],
   "source": [
    "generator = Generator(latent_dim, in_dim)\n",
    "discriminator = Discriminator(in_dim)"
   ]
  },
  {
   "cell_type": "markdown",
   "metadata": {},
   "source": [
    "### Define loss function"
   ]
  },
  {
   "cell_type": "code",
<<<<<<< HEAD
   "execution_count": null,
=======
   "execution_count": 21,
>>>>>>> 6c392617455d62191e43de814e698e67c9a1d53a
   "metadata": {},
   "outputs": [],
   "source": [
    "criterion = nn.BCELoss(reduction='mean')\n",
    "def loss_function(out, label):\n",
    "    loss = criterion(out, label)\n",
    "    return loss"
   ]
  },
  {
   "cell_type": "markdown",
   "metadata": {},
   "source": [
    "### Initialize Model and print number of parameters for both G and D"
   ]
  },
  {
   "cell_type": "code",
<<<<<<< HEAD
   "execution_count": null,
   "metadata": {},
   "outputs": [],
=======
   "execution_count": 22,
   "metadata": {},
   "outputs": [
    {
     "name": "stdout",
     "output_type": "stream",
     "text": [
      "The number of parameters for G is: 1631504\n",
      "The number of parameters for D is: 1997313\n",
      "The total number of parameters is: 3628817\n"
     ]
    }
   ],
>>>>>>> 6c392617455d62191e43de814e698e67c9a1d53a
   "source": [
    "generator = generator.to(device)\n",
    "discriminator = discriminator.to(device)\n",
    "g_params = sum(p.numel() for p in generator.parameters() if p.requires_grad)\n",
    "d_params = sum(p.numel() for p in discriminator.parameters() if p.requires_grad)\n",
    "print(\"The number of parameters for G is: {}\".format(g_params))\n",
    "print(\"The number of parameters for D is: {}\".format(d_params))\n",
    "print(\"The total number of parameters is: {}\".format(g_params + d_params))"
   ]
  },
  {
   "cell_type": "markdown",
   "metadata": {},
   "source": [
    "### Choose and initialize optimizer"
   ]
  },
  {
   "cell_type": "code",
<<<<<<< HEAD
   "execution_count": null,
=======
   "execution_count": 23,
>>>>>>> 6c392617455d62191e43de814e698e67c9a1d53a
   "metadata": {},
   "outputs": [],
   "source": [
    "g_optimizer = torch.optim.Adam(generator.parameters(), lr=learning_rate, betas=(beta_1, beta_2))\n",
    "d_optimizer = torch.optim.Adam(discriminator.parameters(), lr=learning_rate, betas=(beta_1, beta_2))"
   ]
  },
  {
   "cell_type": "markdown",
   "metadata": {},
   "source": [
    "### Train"
   ]
  },
  {
   "cell_type": "code",
<<<<<<< HEAD
   "execution_count": null,
   "metadata": {
    "scrolled": true
   },
   "outputs": [],
=======
   "execution_count": 24,
   "metadata": {
    "scrolled": true
   },
   "outputs": [
    {
     "name": "stdout",
     "output_type": "stream",
     "text": [
      "epoch [1/20], generator loss:0.9836\n",
      "epoch [1/20], discriminator loss:1.0457\n",
      "epoch [2/20], generator loss:1.2815\n",
      "epoch [2/20], discriminator loss:0.8650\n",
      "epoch [3/20], generator loss:1.3896\n",
      "epoch [3/20], discriminator loss:0.8265\n",
      "epoch [4/20], generator loss:1.4577\n",
      "epoch [4/20], discriminator loss:0.8220\n",
      "epoch [5/20], generator loss:1.5313\n",
      "epoch [5/20], discriminator loss:0.7965\n",
      "epoch [6/20], generator loss:1.5490\n",
      "epoch [6/20], discriminator loss:0.7989\n",
      "epoch [7/20], generator loss:1.6104\n",
      "epoch [7/20], discriminator loss:0.7718\n",
      "epoch [8/20], generator loss:1.5875\n",
      "epoch [8/20], discriminator loss:0.7758\n",
      "epoch [9/20], generator loss:1.6283\n",
      "epoch [9/20], discriminator loss:0.7814\n",
      "epoch [10/20], generator loss:1.7344\n",
      "epoch [10/20], discriminator loss:0.7329\n",
      "epoch [11/20], generator loss:1.6974\n",
      "epoch [11/20], discriminator loss:0.7764\n",
      "epoch [12/20], generator loss:1.5756\n",
      "epoch [12/20], discriminator loss:0.8236\n",
      "epoch [13/20], generator loss:1.5690\n",
      "epoch [13/20], discriminator loss:0.8359\n",
      "epoch [14/20], generator loss:1.5532\n",
      "epoch [14/20], discriminator loss:0.8435\n",
      "epoch [15/20], generator loss:1.5417\n",
      "epoch [15/20], discriminator loss:0.8517\n",
      "epoch [16/20], generator loss:1.6248\n",
      "epoch [16/20], discriminator loss:0.8205\n",
      "epoch [17/20], generator loss:1.5281\n",
      "epoch [17/20], discriminator loss:0.8560\n",
      "epoch [18/20], generator loss:1.5144\n",
      "epoch [18/20], discriminator loss:0.8700\n",
      "epoch [19/20], generator loss:1.5933\n",
      "epoch [19/20], discriminator loss:0.8332\n",
      "epoch [20/20], generator loss:1.5917\n",
      "epoch [20/20], discriminator loss:0.8455\n"
     ]
    }
   ],
>>>>>>> 6c392617455d62191e43de814e698e67c9a1d53a
   "source": [
    "generator.train()\n",
    "discriminator.train()\n",
    "g_losses = []\n",
    "d_losses = []\n",
    "\n",
    "fixed_noise = torch.rand(num_classes, latent_dim).to(device)\n",
    "fixed_labels = np.arange(num_classes)\n",
    "fixed_labels = (torch.from_numpy(fixed_labels)).type(torch.LongTensor)\n",
    "fixed_labels = fixed_labels.to(device)\n",
    "fixed_labels_one_hot = torch.zeros(num_classes, num_classes).to(device)\n",
    "fixed_labels_one_hot.scatter_(1, fixed_labels.view(num_classes, 1), 1)\n",
    "\n",
    "for epoch in range(num_epochs):\n",
    "    g_loss_epoch = 0\n",
    "    d_loss_epoch = 0\n",
    "    \n",
    "    for batch_idx, (images, labels) in enumerate(train_loader):\n",
    "        batch_size = images.size(0)\n",
    "\n",
    "        # train Discriminator\n",
    "        images = images.view(batch_size, -1).to(device)\n",
    "\n",
    "        real_labels = torch.ones(batch_size).to(device)\n",
    "        fake_labels = torch.zeros(batch_size).to(device)\n",
    "\n",
    "        labels_one_hot = torch.zeros(batch_size, 10)\n",
    "        labels_one_hot.scatter_(1, labels.view(batch_size, 1).type(torch.LongTensor), 1)\n",
    "        labels_one_hot = labels_one_hot.to(device)\n",
    "\n",
    "        outputs = discriminator(images, labels_one_hot).squeeze()\n",
    "        d_loss_real = loss_function(outputs, real_labels)\n",
    "\n",
    "        z = torch.rand(batch_size, latent_dim).to(device)\n",
    "        z_labels = (torch.rand(batch_size, 1)*num_classes).type(torch.LongTensor)  # ten classes for MNIST\n",
    "        z_labels = z_labels.to(device)\n",
    "        z_labels_one_hot = torch.zeros(batch_size, 10).to(device)\n",
    "        z_labels_one_hot.scatter_(1, z_labels.view(batch_size, 1), 1)\n",
    "\n",
    "        fake_images = generator(z, z_labels_one_hot)\n",
    "        outputs = discriminator(fake_images, z_labels_one_hot).squeeze()\n",
    "        d_loss_fake = loss_function(outputs, fake_labels)\n",
    "\n",
    "        d_loss = d_loss_real + d_loss_fake\n",
    "        d_optimizer.zero_grad()\n",
    "        d_loss.backward()\n",
    "        d_optimizer.step()\n",
    "        \n",
    "        d_loss_epoch += d_loss.item()\n",
    "\n",
    "        # train Generator\n",
    "\n",
    "        z = torch.rand(batch_size, latent_dim).to(device)\n",
    "        z_labels = (torch.rand(batch_size, 1)*10).type(torch.LongTensor)  # ten classes for MNIST\n",
    "        z_labels = z_labels.to(device)\n",
    "        z_labels_one_hot = torch.zeros(batch_size, 10).to(device)\n",
    "        z_labels_one_hot.scatter_(1, z_labels.view(batch_size, 1), 1)\n",
    "\n",
    "        fake_images = generator(z, z_labels_one_hot)\n",
    "        outputs = discriminator(fake_images, z_labels_one_hot).squeeze()\n",
    "\n",
    "        g_loss = criterion(outputs, real_labels)\n",
    "        g_optimizer.zero_grad()\n",
    "        g_loss.backward()\n",
    "        g_optimizer.step()\n",
    "        \n",
    "        g_loss_epoch += g_loss.item()\n",
    "        \n",
    "    print('epoch [{}/{}], generator loss:{:.4f}'\n",
    "          .format(epoch + 1, num_epochs, g_loss_epoch / len(train_loader)))\n",
    "    g_losses.append(g_loss_epoch/ len(train_loader))\n",
    "    print('epoch [{}/{}], discriminator loss:{:.4f}'\n",
    "          .format(epoch + 1, num_epochs, d_loss_epoch / len(train_loader)))\n",
    "    d_losses.append(d_loss_epoch/ len(train_loader))\n",
    "    if epoch % sample_interval == 0:\n",
    "        fake_fixed_images = generator(fixed_noise, fixed_labels_one_hot)\n",
    "        fake_fixed_images = denorm(fake_fixed_images)\n",
    "        save_image(fake_fixed_images.cpu(), './cGAN/samples_epoch_{}.png'.format(epoch),nrow = 8)\n",
    "    torch.save(generator.state_dict(), './cGAN/generator.pth')\n",
    "    torch.save(discriminator.state_dict(), './cGAN/discriminator.pth')\n",
    "    \n",
    "np.save('./cGAN/generator_losses.npy', np.array(g_losses))\n",
    "np.save('./cGAN/discriminator_losses.npy', np.array(d_losses))"
   ]
  },
  {
   "cell_type": "markdown",
   "metadata": {},
   "source": [
    "### Loss curves"
   ]
  },
  {
   "cell_type": "code",
<<<<<<< HEAD
   "execution_count": null,
   "metadata": {
    "scrolled": true
   },
   "outputs": [],
=======
   "execution_count": 25,
   "metadata": {
    "scrolled": true
   },
   "outputs": [
    {
     "data": {
      "image/png": "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\n",
      "text/plain": [
       "<Figure size 432x288 with 1 Axes>"
      ]
     },
     "metadata": {
      "needs_background": "light"
     },
     "output_type": "display_data"
    },
    {
     "data": {
      "image/png": "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\n",
      "text/plain": [
       "<Figure size 432x288 with 1 Axes>"
      ]
     },
     "metadata": {
      "needs_background": "light"
     },
     "output_type": "display_data"
    }
   ],
>>>>>>> 6c392617455d62191e43de814e698e67c9a1d53a
   "source": [
    "import matplotlib.pyplot as plt\n",
    "\n",
    "generator_losses = np.load('./cGAN/generator_losses.npy')\n",
    "plt.plot(list(range(0,generator_losses.shape[0])), generator_losses)\n",
    "plt.title('Generator Loss')\n",
    "plt.show()\n",
    "\n",
    "import matplotlib.pyplot as plt\n",
    "discriminator_losses = np.load('./cGAN/discriminator_losses.npy')\n",
    "plt.plot(list(range(0,discriminator_losses.shape[0])), discriminator_losses)\n",
    "plt.title('Discriminator Loss')\n",
    "plt.show()"
   ]
  },
  {
   "cell_type": "code",
   "execution_count": null,
   "metadata": {},
   "outputs": [],
   "source": []
  }
 ],
 "metadata": {
  "kernelspec": {
   "display_name": "Python 3",
   "language": "python",
   "name": "python3"
  },
  "language_info": {
   "codemirror_mode": {
    "name": "ipython",
    "version": 3
   },
   "file_extension": ".py",
   "mimetype": "text/x-python",
   "name": "python",
   "nbconvert_exporter": "python",
   "pygments_lexer": "ipython3",
   "version": "3.6.8"
  }
 },
 "nbformat": 4,
 "nbformat_minor": 2
}
