{
 "cells": [
  {
   "cell_type": "markdown",
   "metadata": {},
   "source": [
    "# CO460 - Deep Learning - Lab exercise 4"
   ]
  },
  {
   "cell_type": "markdown",
   "metadata": {},
   "source": [
    "## Introduction\n",
    "\n",
    "In this exercise, you will experiment with a GAN and a Conditional GAN architecture.\n",
    "You are asked to:\n",
    "\n",
    "1.  Experiment with the architectures\n",
    "2.  Define the training strategy\n",
    "3.  Investigate and implement sampling and interpolation in the latent space."
   ]
  },
  {
   "cell_type": "code",
   "execution_count": 1,
   "metadata": {},
   "outputs": [],
   "source": [
    "import os\n",
    "import torch\n",
    "import torch.nn as nn\n",
    "import torch.optim as optim\n",
    "from torch.utils.data import DataLoader\n",
    "from torchvision import datasets, transforms\n",
    "from torchvision.utils import save_image, make_grid\n",
    "import torch.nn.functional as F\n",
    "from utils import *\n",
    "import matplotlib.pyplot as plt\n",
    "import numpy as np"
   ]
  },
  {
   "cell_type": "markdown",
   "metadata": {},
   "source": [
    "### Device selection"
   ]
  },
  {
   "cell_type": "code",
   "execution_count": 2,
   "metadata": {},
   "outputs": [
    {
     "name": "stdout",
     "output_type": "stream",
     "text": [
      "cuda:0\n"
     ]
    }
   ],
   "source": [
    "GPU = True\n",
    "device_idx = 0\n",
    "if GPU:\n",
    "    device = torch.device(\"cuda:\" + str(device_idx) if torch.cuda.is_available() else \"cpu\")\n",
    "else:\n",
    "    device = torch.device(\"cpu\")\n",
    "print(device)"
   ]
  },
  {
   "cell_type": "markdown",
   "metadata": {},
   "source": [
    "### Reproducibility"
   ]
  },
  {
   "cell_type": "code",
   "execution_count": 3,
   "metadata": {},
   "outputs": [
    {
     "data": {
      "text/plain": [
<<<<<<< HEAD
       "<torch._C.Generator at 0x7f033c166eb0>"
=======
       "<torch._C.Generator at 0x7f9453928eb0>"
>>>>>>> 6c392617455d62191e43de814e698e67c9a1d53a
      ]
     },
     "execution_count": 3,
     "metadata": {},
     "output_type": "execute_result"
    }
   ],
   "source": [
    "# We set a random seed to ensure that your results are reproducible.\n",
    "if torch.cuda.is_available():\n",
    "    torch.backends.cudnn.deterministic = True\n",
    "torch.manual_seed(0)"
   ]
  },
  {
   "cell_type": "code",
   "execution_count": 4,
   "metadata": {},
<<<<<<< HEAD
   "outputs": [
    {
     "name": "stdout",
     "output_type": "stream",
     "text": [
      "Downloading http://yann.lecun.com/exdb/mnist/train-images-idx3-ubyte.gz\n",
      "Downloading http://yann.lecun.com/exdb/mnist/train-labels-idx1-ubyte.gz\n",
      "Downloading http://yann.lecun.com/exdb/mnist/t10k-images-idx3-ubyte.gz\n",
      "Downloading http://yann.lecun.com/exdb/mnist/t10k-labels-idx1-ubyte.gz\n",
      "Processing...\n",
      "Done!\n"
     ]
    }
   ],
=======
   "outputs": [],
>>>>>>> 6c392617455d62191e43de814e698e67c9a1d53a
   "source": [
    "transform = transforms.Compose([\n",
    "     transforms.ToTensor(),\n",
    "     transforms.Normalize(mean=(0.5, 0.5, 0.5), std=(0.5, 0.5, 0.5))\n",
    "])\n",
    "\n",
    "train_dat = datasets.MNIST(\n",
    "    \"data/\", train=True, download=True, transform=transform\n",
    ")\n",
    "test_dat = datasets.MNIST(\"./data/\", train=False, transform=transform)\n",
    "\n",
    "denorm = denorm_for_tanh\n",
    "\n",
    "if not os.path.exists('./cGAN'):\n",
    "    os.mkdir('./cGAN')\n",
    "    \n",
    "if not os.path.exists('./GAN'):\n",
    "    os.mkdir('./GAN')"
   ]
  },
  {
   "cell_type": "markdown",
   "metadata": {},
   "source": [
    "### Hyper-parameter selection"
   ]
  },
  {
   "cell_type": "code",
<<<<<<< HEAD
   "execution_count": 5,
=======
   "execution_count": null,
>>>>>>> 6c392617455d62191e43de814e698e67c9a1d53a
   "metadata": {},
   "outputs": [],
   "source": [
    "\"\"\"\n",
    "TODO: Define here your hyperparameters\n",
    "\"\"\"\n",
    "\n",
    "num_epochs = None\n",
    "batch_size = None\n",
    "learning_rate = None\n",
    "noise_dim = None\n",
    "\n",
    "\n",
    "in_dim = np.prod(train_dat[0][0].shape)\n",
    "out_shape = train_dat[0][0].shape\n",
    "sample_interval = 5"
   ]
  },
  {
   "cell_type": "code",
<<<<<<< HEAD
   "execution_count": 6,
   "metadata": {
    "scrolled": true
   },
   "outputs": [
    {
     "ename": "ValueError",
     "evalue": "batch_size should be a positive integeral value, but got batch_size=None",
     "output_type": "error",
     "traceback": [
      "\u001b[0;31m---------------------------------------------------------------------------\u001b[0m",
      "\u001b[0;31mValueError\u001b[0m                                Traceback (most recent call last)",
      "\u001b[0;32m<ipython-input-6-96a67a49672f>\u001b[0m in \u001b[0;36m<module>\u001b[0;34m\u001b[0m\n\u001b[0;32m----> 1\u001b[0;31m \u001b[0mtrain_loader\u001b[0m \u001b[0;34m=\u001b[0m \u001b[0mDataLoader\u001b[0m\u001b[0;34m(\u001b[0m\u001b[0mtrain_dat\u001b[0m\u001b[0;34m,\u001b[0m \u001b[0mbatch_size\u001b[0m\u001b[0;34m,\u001b[0m \u001b[0mshuffle\u001b[0m\u001b[0;34m=\u001b[0m\u001b[0;32mTrue\u001b[0m\u001b[0;34m,\u001b[0m \u001b[0mnum_workers\u001b[0m\u001b[0;34m=\u001b[0m\u001b[0;36m16\u001b[0m\u001b[0;34m)\u001b[0m\u001b[0;34m\u001b[0m\u001b[0;34m\u001b[0m\u001b[0m\n\u001b[0m\u001b[1;32m      2\u001b[0m \u001b[0mtest_loader\u001b[0m \u001b[0;34m=\u001b[0m \u001b[0mDataLoader\u001b[0m\u001b[0;34m(\u001b[0m\u001b[0mtest_dat\u001b[0m\u001b[0;34m,\u001b[0m \u001b[0mbatch_size\u001b[0m\u001b[0;34m,\u001b[0m \u001b[0mshuffle\u001b[0m\u001b[0;34m=\u001b[0m\u001b[0;32mFalse\u001b[0m\u001b[0;34m,\u001b[0m \u001b[0mnum_workers\u001b[0m\u001b[0;34m=\u001b[0m\u001b[0;36m16\u001b[0m\u001b[0;34m)\u001b[0m\u001b[0;34m\u001b[0m\u001b[0;34m\u001b[0m\u001b[0m\n",
      "\u001b[0;32m/vol/lab/course/416/venv/lib/python3.6/site-packages/torch/utils/data/dataloader.py\u001b[0m in \u001b[0;36m__init__\u001b[0;34m(self, dataset, batch_size, shuffle, sampler, batch_sampler, num_workers, collate_fn, pin_memory, drop_last, timeout, worker_init_fn)\u001b[0m\n\u001b[1;32m    803\u001b[0m                 \u001b[0;32melse\u001b[0m\u001b[0;34m:\u001b[0m\u001b[0;34m\u001b[0m\u001b[0;34m\u001b[0m\u001b[0m\n\u001b[1;32m    804\u001b[0m                     \u001b[0msampler\u001b[0m \u001b[0;34m=\u001b[0m \u001b[0mSequentialSampler\u001b[0m\u001b[0;34m(\u001b[0m\u001b[0mdataset\u001b[0m\u001b[0;34m)\u001b[0m\u001b[0;34m\u001b[0m\u001b[0;34m\u001b[0m\u001b[0m\n\u001b[0;32m--> 805\u001b[0;31m             \u001b[0mbatch_sampler\u001b[0m \u001b[0;34m=\u001b[0m \u001b[0mBatchSampler\u001b[0m\u001b[0;34m(\u001b[0m\u001b[0msampler\u001b[0m\u001b[0;34m,\u001b[0m \u001b[0mbatch_size\u001b[0m\u001b[0;34m,\u001b[0m \u001b[0mdrop_last\u001b[0m\u001b[0;34m)\u001b[0m\u001b[0;34m\u001b[0m\u001b[0;34m\u001b[0m\u001b[0m\n\u001b[0m\u001b[1;32m    806\u001b[0m \u001b[0;34m\u001b[0m\u001b[0m\n\u001b[1;32m    807\u001b[0m         \u001b[0mself\u001b[0m\u001b[0;34m.\u001b[0m\u001b[0msampler\u001b[0m \u001b[0;34m=\u001b[0m \u001b[0msampler\u001b[0m\u001b[0;34m\u001b[0m\u001b[0;34m\u001b[0m\u001b[0m\n",
      "\u001b[0;32m/vol/lab/course/416/venv/lib/python3.6/site-packages/torch/utils/data/sampler.py\u001b[0m in \u001b[0;36m__init__\u001b[0;34m(self, sampler, batch_size, drop_last)\u001b[0m\n\u001b[1;32m    148\u001b[0m                 \u001b[0mbatch_size\u001b[0m \u001b[0;34m<=\u001b[0m \u001b[0;36m0\u001b[0m\u001b[0;34m:\u001b[0m\u001b[0;34m\u001b[0m\u001b[0;34m\u001b[0m\u001b[0m\n\u001b[1;32m    149\u001b[0m             raise ValueError(\"batch_size should be a positive integeral value, \"\n\u001b[0;32m--> 150\u001b[0;31m                              \"but got batch_size={}\".format(batch_size))\n\u001b[0m\u001b[1;32m    151\u001b[0m         \u001b[0;32mif\u001b[0m \u001b[0;32mnot\u001b[0m \u001b[0misinstance\u001b[0m\u001b[0;34m(\u001b[0m\u001b[0mdrop_last\u001b[0m\u001b[0;34m,\u001b[0m \u001b[0mbool\u001b[0m\u001b[0;34m)\u001b[0m\u001b[0;34m:\u001b[0m\u001b[0;34m\u001b[0m\u001b[0;34m\u001b[0m\u001b[0m\n\u001b[1;32m    152\u001b[0m             raise ValueError(\"drop_last should be a boolean value, but got \"\n",
      "\u001b[0;31mValueError\u001b[0m: batch_size should be a positive integeral value, but got batch_size=None"
     ]
    }
   ],
=======
   "execution_count": null,
   "metadata": {
    "scrolled": true
   },
   "outputs": [],
>>>>>>> 6c392617455d62191e43de814e698e67c9a1d53a
   "source": [
    "train_loader = DataLoader(train_dat, batch_size, shuffle=True, num_workers=16)\n",
    "test_loader = DataLoader(test_dat, batch_size, shuffle=False, num_workers=16)\n"
   ]
  },
  {
   "cell_type": "markdown",
   "metadata": {},
   "source": [
    "### Define the model"
   ]
  },
  {
   "cell_type": "code",
   "execution_count": null,
   "metadata": {},
   "outputs": [],
   "source": [
    "class Generator(torch.nn.Module):\n",
    "\n",
    "    def __init__(self):\n",
    "        super(Generator, self).__init__()\n",
    "        \"\"\"\n",
    "        TODO: Layer definitions for the Generator\n",
    "        \"\"\"\n",
    "        \n",
    "\n",
    "    def forward(self, x):\n",
    "    \n",
    "        \"\"\"\n",
    "        TODO: Generator pipeline. Your output should have the same dimensions as the real images\n",
    "        \"\"\"\n",
    "            \n",
    "        return x\n",
    "    \n",
    "    \n",
    "    \n",
    "    \n",
    "    \n",
    "class Discriminator(torch.nn.Module):\n",
    "\n",
    "    def __init__(self):\n",
    "        super(Discriminator, self).__init__()\n",
    "        \"\"\"\n",
    "        TODO: Layer definitions for the Discriminator\n",
    "        \"\"\"\n",
    "\n",
    "    def forward(self, x):\n",
    "        \"\"\"\n",
    "        TODO: Discriminator pipeline. Your output should have only one dimension.\n",
    "        \"\"\"\n",
    "            \n",
    "        return x\n"
   ]
  },
  {
   "cell_type": "code",
   "execution_count": null,
   "metadata": {},
   "outputs": [],
   "source": [
    "generator = Generator()\n",
    "discriminator = Discriminator()\n"
   ]
  },
  {
   "cell_type": "markdown",
   "metadata": {},
   "source": [
    "### Define Loss function"
   ]
  },
  {
   "cell_type": "code",
   "execution_count": null,
   "metadata": {},
   "outputs": [],
   "source": [
    "criterion = nn.BCELoss(reduction='mean')\n",
    "def loss_function(out, label):\n",
    "    loss = criterion(out, label)\n",
    "    return loss"
   ]
  },
  {
   "cell_type": "markdown",
   "metadata": {},
   "source": [
    "### Initialize Model and print number of parameters"
   ]
  },
  {
   "cell_type": "code",
   "execution_count": null,
   "metadata": {},
   "outputs": [],
   "source": [
    "generator = generator.to(device)\n",
    "discriminator = discriminator.to(device)\n",
    "\n",
    "params = sum(p.numel() for p in generator.parameters() if p.requires_grad)\n",
    "print(\"Total number of generator parameters is: {}\".format(params))  # what would the number actually be\n",
    "print(generator)\n",
    "\n",
    "params = sum(p.numel() for p in discriminator.parameters() if p.requires_grad)\n",
    "print(\"Total number of discriminator parameters is: {}\".format(params))  # what would the number actually be\n",
    "print(discriminator)"
   ]
  },
  {
   "cell_type": "markdown",
   "metadata": {},
   "source": [
    "### Choose and initialize optimizer"
   ]
  },
  {
   "cell_type": "code",
   "execution_count": null,
   "metadata": {},
   "outputs": [],
   "source": [
    "optimizer_G = torch.optim.Adam(generator.parameters(), lr=learning_rate)\n",
    "optimizer_D = torch.optim.Adam(discriminator.parameters(), lr=learning_rate)"
   ]
  },
  {
   "cell_type": "markdown",
   "metadata": {},
   "source": [
    "### Pick a noise distribution"
   ]
  },
  {
   "cell_type": "code",
   "execution_count": null,
   "metadata": {},
   "outputs": [],
   "source": [
    "def generate_noise(batch_size, noise_dim):\n",
    "    \"\"\"\n",
    "    TODO: Define here your noise distribution (probably gaussian or uniform)\n",
    "    \"\"\"\n",
    "    return noise                        "
   ]
  },
  {
   "cell_type": "markdown",
   "metadata": {},
   "source": [
    " ### Train"
   ]
  },
  {
   "cell_type": "code",
   "execution_count": null,
   "metadata": {},
   "outputs": [],
   "source": [
    "g_losses = []\n",
    "d_losses = []\n",
    "generator.train()\n",
    "discriminator.train()\n",
    "num_epochs = 200 \n",
    "fixed_noise = generate_noise(batch_size, noise_dim)\n",
    "\n",
    "for epoch in range(num_epochs):\n",
    "    g_loss_epoch = 0\n",
    "    d_loss_epoch = 0 \n",
    "    for batch_idx, data in enumerate(train_loader):\n",
    "        \n",
    "        \"\"\"\n",
    "        TODO: Define here your training strategy\n",
    "        \"\"\"\n",
    "        d_loss_epoch += d_loss.item()\n",
    "        g_loss_epoch += g_loss.item()\n",
    "\n",
    "\n",
    "    print('epoch [{}/{}], generator loss:{:.4f}'\n",
    "          .format(epoch + 1, num_epochs, g_loss_epoch / len(train_loader)))\n",
    "    g_losses.append(g_loss_epoch/ len(train_loader))\n",
    "    print('epoch [{}/{}], discriminator loss:{:.4f}'\n",
    "          .format(epoch + 1, num_epochs, d_loss_epoch / len(train_loader)))\n",
    "    d_losses.append(d_loss_epoch/ len(train_loader))\n",
    "    if epoch % sample_interval == 0:\n",
    "        save_image(denorm(generator(fixed_noise.to(device))).cpu(), './GAN/samples_epoch_{}.png'.format(epoch),nrow = 8)\n",
    "    torch.save(generator.state_dict(), './GAN/generator.pth')\n",
    "    torch.save(discriminator.state_dict(), './GAN/discriminator.pth')\n",
    "    \n",
    "np.save('./GAN/generator_losses.npy', np.array(g_losses))\n",
    "np.save('./GAN/discriminator_losses.npy', np.array(d_losses))"
   ]
  },
  {
   "cell_type": "markdown",
   "metadata": {},
   "source": [
    "### Loss curves"
   ]
  },
  {
   "cell_type": "code",
   "execution_count": null,
   "metadata": {},
   "outputs": [],
   "source": [
    "import matplotlib.pyplot as plt\n",
    "generator_losses = np.load('./GAN/generator_losses.npy')\n",
    "plt.plot(list(range(0,generator_losses.shape[0])), generator_losses)\n",
    "plt.title('Generator Loss')\n",
    "plt.show()\n",
    "\n",
    "import matplotlib.pyplot as plt\n",
    "discriminator_losses = np.load('./GAN/discriminator_losses.npy')\n",
    "plt.plot(list(range(0,discriminator_losses.shape[0])), discriminator_losses)\n",
    "plt.title('Discriminator Loss')\n",
    "plt.show()"
   ]
  },
  {
   "cell_type": "markdown",
   "metadata": {},
   "source": [
    "### Sampling"
   ]
  },
  {
   "cell_type": "code",
   "execution_count": null,
   "metadata": {},
   "outputs": [],
   "source": [
    "generator.load_state_dict(torch.load(\"./GAN/generator.pth\"))\n",
    "\n",
    "\"\"\"\n",
    "TODO: Sample from the noise distribution\n",
    "\"\"\"\n",
    "\n",
    "\"\"\"\n",
    "TODO: Do a linear interpolation in the latent space between two noise vectors \n",
    "      and generate all the intermediate samples\n",
    "\"\"\"\n"
   ]
  },
  {
   "cell_type": "markdown",
   "metadata": {},
   "source": [
    "## Conditional GAN"
   ]
  },
  {
   "cell_type": "markdown",
   "metadata": {},
   "source": [
    "The concept of conditional GAN: \n",
    "\n",
    "* $\\mathbf{x}$ refers to a train datum\n",
    "* $\\mathbf{y}$ refers to the corresponding label\n",
    "* $\\mathbf{z}$ refers to random noise vector\n",
    "<img src=\"./imgs/cGAN.png\" width=\"500\" />"
   ]
  },
  {
   "cell_type": "markdown",
   "metadata": {},
   "source": [
    "### Hyper-parameter selection"
   ]
  },
  {
   "cell_type": "code",
   "execution_count": null,
   "metadata": {},
   "outputs": [],
   "source": [
    "\"\"\"\n",
    "TODO: Define here your hyperparameters\n",
    "\"\"\"\n",
    "\n",
    "num_epochs = None\n",
    "batch_size = None\n",
    "learning_rate = None\n",
    "\n",
    "num_workers = 16\n",
    "num_classes = 10\n",
    "sample_interval = 5"
   ]
  },
  {
   "cell_type": "markdown",
   "metadata": {},
   "source": [
    "### Define the dataloaders"
   ]
  },
  {
   "cell_type": "code",
   "execution_count": null,
   "metadata": {},
   "outputs": [],
   "source": [
    "train_loader = DataLoader(train_dat, batch_size, shuffle=True, num_workers=num_workers)\n",
    "test_loader = DataLoader(test_dat, batch_size, shuffle=False, num_workers=num_workers)\n",
    "total_step = len(train_loader)\n",
    "\n",
    "it = iter(test_loader)\n",
    "sample_inputs, _ = next(it)\n",
    "\n",
    "in_dim = sample_inputs.shape[-1] * sample_inputs.shape[-2]"
   ]
  },
  {
   "cell_type": "markdown",
   "metadata": {},
   "source": [
    "### Define the Generator and the Discriminator"
   ]
  },
  {
   "cell_type": "code",
   "execution_count": null,
   "metadata": {},
   "outputs": [],
   "source": [
    "class Generator(torch.nn.Module):\n",
    "\n",
    "    def __init__(self):\n",
    "        super(Generator, self).__init__()\n",
    "        \"\"\"\n",
    "        TODO: Layer definitions for the Generator\n",
    "        \"\"\"\n",
    "        \n",
    "\n",
    "    def forward(self, x):\n",
    "    \n",
    "        \"\"\"\n",
    "        TODO: Generator pipeline. Your output should have the same dimensions as the real images\n",
    "        \"\"\"\n",
    "            \n",
    "        return x\n",
    "    \n",
    "    \n",
    "    \n",
    "    \n",
    "    \n",
    "class Discriminator(torch.nn.Module):\n",
    "\n",
    "    def __init__(self):\n",
    "        super(Discriminator, self).__init__()\n",
    "        \"\"\"\n",
    "        TODO: Layer definitions for the Discriminator\n",
    "        \"\"\"\n",
    "\n",
    "    def forward(self, x):\n",
    "        \"\"\"\n",
    "        TODO: Discriminator pipeline. Your output should have only one dimension.\n",
    "        \"\"\"\n",
    "            \n",
    "        return x\n"
   ]
  },
  {
   "cell_type": "code",
   "execution_count": null,
   "metadata": {},
   "outputs": [],
   "source": [
    "generator = Generator(latent_dim, in_dim)\n",
    "discriminator = Discriminator(in_dim)"
   ]
  },
  {
   "cell_type": "markdown",
   "metadata": {},
   "source": [
    "### Define loss function"
   ]
  },
  {
   "cell_type": "code",
   "execution_count": null,
   "metadata": {},
   "outputs": [],
   "source": [
    "criterion = nn.BCELoss(reduction='mean')\n",
    "def loss_function(out, label):\n",
    "    loss = criterion(out, label)\n",
    "    return loss"
   ]
  },
  {
   "cell_type": "markdown",
   "metadata": {},
   "source": [
    "### Initialize Model and print number of parameters for both G and D"
   ]
  },
  {
   "cell_type": "code",
   "execution_count": null,
   "metadata": {},
   "outputs": [],
   "source": [
    "generator = generator.to(device)\n",
    "discriminator = discriminator.to(device)\n",
    "g_params = sum(p.numel() for p in generator.parameters() if p.requires_grad)\n",
    "d_params = sum(p.numel() for p in discriminator.parameters() if p.requires_grad)\n",
    "print(\"The number of parameters for G is: {}\".format(g_params))\n",
    "print(\"The number of parameters for D is: {}\".format(d_params))\n",
    "print(\"The total number of parameters is: {}\".format(g_params + d_params))"
   ]
  },
  {
   "cell_type": "markdown",
   "metadata": {},
   "source": [
    "### Choose and initialize optimizer"
   ]
  },
  {
   "cell_type": "code",
   "execution_count": null,
   "metadata": {},
   "outputs": [],
   "source": [
    "g_optimizer = torch.optim.Adam(generator.parameters(), lr=learning_rate)\n",
    "d_optimizer = torch.optim.Adam(discriminator.parameters(), lr=learning_rate)"
   ]
  },
  {
   "cell_type": "markdown",
   "metadata": {},
   "source": [
    "### Train"
   ]
  },
  {
   "cell_type": "code",
   "execution_count": null,
   "metadata": {
    "scrolled": false
   },
   "outputs": [],
   "source": [
    "generator.train()\n",
    "discriminator.train()\n",
    "g_losses = []\n",
    "d_losses = []\n",
    "\n",
    "fixed_noise = torch.rand(num_classes, latent_dim).to(device)\n",
    "fixed_labels = np.arange(num_classes)\n",
    "fixed_labels = (torch.from_numpy(fixed_labels)).type(torch.LongTensor)\n",
    "fixed_labels = fixed_labels.to(device)\n",
    "fixed_labels_one_hot = torch.zeros(num_classes, num_classes).to(device)\n",
    "fixed_labels_one_hot.scatter_(1, fixed_labels.view(num_classes, 1), 1)\n",
    "\n",
    "for epoch in range(num_epochs):\n",
    "    g_loss_epoch = 0\n",
    "    d_loss_epoch = 0\n",
    "    \n",
    "    for batch_idx, (images, labels) in enumerate(train_loader):\n",
    "        batch_size = images.size(0)\n",
    "\n",
    "        \"\"\"\n",
    "        TODO: Define here your training strategy\n",
    "        \"\"\"\n",
    "        \n",
    "        d_loss_epoch += d_loss.item()\n",
    "        g_loss_epoch += g_loss.item()\n",
    "        \n",
    "    print('epoch [{}/{}], generator loss:{:.4f}'\n",
    "          .format(epoch + 1, num_epochs, g_loss_epoch / len(train_loader)))\n",
    "    g_losses.append(g_loss_epoch/ len(train_loader))\n",
    "    print('epoch [{}/{}], discriminator loss:{:.4f}'\n",
    "          .format(epoch + 1, num_epochs, d_loss_epoch / len(train_loader)))\n",
    "    d_losses.append(d_loss_epoch/ len(train_loader))\n",
    "    if epoch % sample_interval == 0:\n",
    "        fake_fixed_images = generator(fixed_noise, fixed_labels_one_hot)\n",
    "        fake_fixed_images = denorm(fake_fixed_images)\n",
    "        save_image(fake_fixed_images.cpu(), './cGAN/samples_epoch_{}.png'.format(epoch),nrow = 8)\n",
    "    torch.save(generator.state_dict(), './cGAN/generator.pth')\n",
    "    torch.save(discriminator.state_dict(), './cGAN/discriminator.pth')\n",
    "    \n",
    "np.save('./cGAN/generator_losses.npy', np.array(g_losses))\n",
    "np.save('./cGAN/discriminator_losses.npy', np.array(d_losses))"
   ]
  },
  {
   "cell_type": "markdown",
   "metadata": {},
   "source": [
    "### Loss curves"
   ]
  },
  {
   "cell_type": "code",
   "execution_count": null,
   "metadata": {},
   "outputs": [],
   "source": [
    "import matplotlib.pyplot as plt\n",
    "generator_losses = np.load('./cGAN/generator_losses.npy')\n",
    "plt.plot(list(range(0,generator_losses.shape[0])), generator_losses)\n",
    "plt.title('Generator Loss')\n",
    "plt.show()\n",
    "\n",
    "import matplotlib.pyplot as plt\n",
    "discriminator_losses = np.load('./cGAN/discriminator_losses.npy')\n",
    "plt.plot(list(range(0,discriminator_losses.shape[0])), discriminator_losses)\n",
    "plt.title('Discriminator Loss')\n",
    "plt.show()"
   ]
  },
  {
   "cell_type": "markdown",
   "metadata": {},
   "source": [
    "### Sampling"
   ]
  },
  {
   "cell_type": "code",
   "execution_count": null,
   "metadata": {},
   "outputs": [],
   "source": [
    "generator.load_state_dict(torch.load(\"./cGAN/generator.pth\"))\n",
    "\n",
    "\"\"\"\n",
    "TODO: Sample from the noise distribution\n",
    "\"\"\"\n"
   ]
  }
 ],
 "metadata": {
  "kernelspec": {
   "display_name": "Python 3",
   "language": "python",
   "name": "python3"
  },
  "language_info": {
   "codemirror_mode": {
    "name": "ipython",
    "version": 3
   },
   "file_extension": ".py",
   "mimetype": "text/x-python",
   "name": "python",
   "nbconvert_exporter": "python",
   "pygments_lexer": "ipython3",
<<<<<<< HEAD
   "version": "3.6.8"
=======
   "version": "3.6.7"
>>>>>>> 6c392617455d62191e43de814e698e67c9a1d53a
  }
 },
 "nbformat": 4,
 "nbformat_minor": 2
}
