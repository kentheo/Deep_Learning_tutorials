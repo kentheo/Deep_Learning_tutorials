{
 "cells": [
  {
   "cell_type": "markdown",
   "metadata": {},
   "source": [
    "# CO460 - Deep Learning - Tutorial 3"
   ]
  },
  {
   "cell_type": "markdown",
   "metadata": {},
   "source": [
    "## Introduction\n",
    "\n",
    "In this tutorial, there are two parts:\n",
    "\n",
    "First:\n",
    "- A simple single layer autoencoder (AE) \n",
    "- A simple variational autoencoder (VAE)\n",
    "\n",
    "Second:\n",
    "- Exercise and experimentations with Convolutional AE's\n",
    "- Exercise and experimentations with Convolutional VAE's"
   ]
  },
  {
   "cell_type": "code",
   "execution_count": 1,
   "metadata": {
    "scrolled": true
   },
   "outputs": [],
   "source": [
    "import os\n",
    "import torch\n",
    "import torch.nn as nn\n",
    "import torch.optim as optim\n",
    "from torch.utils.data import DataLoader\n",
    "from torchvision import datasets, transforms\n",
    "from torchvision.utils import save_image, make_grid\n",
    "import torch.nn.functional as F\n",
    "from utils import *\n",
    "import matplotlib.pyplot as plt\n",
    "import numpy as np"
   ]
  },
  {
   "cell_type": "markdown",
   "metadata": {},
   "source": [
    "### Device selection"
   ]
  },
  {
   "cell_type": "code",
   "execution_count": 16,
   "metadata": {},
   "outputs": [
    {
     "name": "stdout",
     "output_type": "stream",
     "text": [
      "cuda:0\n"
     ]
    }
   ],
   "source": [
    "GPU = True\n",
    "device_idx = 0\n",
    "if GPU:\n",
    "    device = torch.device(\"cuda:\" + str(device_idx) if torch.cuda.is_available() else \"cpu\")\n",
    "else:\n",
    "    device = torch.device(\"cpu\")\n",
    "print(device)"
   ]
  },
  {
   "cell_type": "markdown",
   "metadata": {},
   "source": [
    "### Reproducibility"
   ]
  },
  {
   "cell_type": "code",
   "execution_count": 3,
   "metadata": {},
   "outputs": [
    {
     "data": {
      "text/plain": [
       "<torch._C.Generator at 0x7fefc42c4f90>"
      ]
     },
     "execution_count": 3,
     "metadata": {},
     "output_type": "execute_result"
    }
   ],
   "source": [
    "# We set a random seed to ensure that your results are reproducible.\n",
    "if torch.cuda.is_available():\n",
    "    torch.backends.cudnn.deterministic = True\n",
    "torch.manual_seed(0)"
   ]
  },
  {
   "cell_type": "markdown",
   "metadata": {},
   "source": [
    "## Part I - Autoencoders"
   ]
  },
  {
   "cell_type": "markdown",
   "metadata": {},
   "source": [
    "###  Normalization: \n",
    "\n",
    "$ x_{norm} = \\frac{x-\\mu}{\\sigma} $\n",
    "\n",
    "_Thus_ :\n",
    "$ \\min{x_{norm}} = \\frac{\\min{(x)}-\\mu}{\\sigma} = \\frac{0-0.5}{0.5} = -1 $\n",
    "\n",
    "_Similarly_:\n",
    "\n",
    "$ \\max{(x_{norm})} = ... = 1 $\n",
    "\n",
    "* Input before normalization for MNIST dataset $\\in [0,1]$\n",
    "* Input after normalization $\\in [-1,1] $\n",
    "* Output should span the same interval $ \\rightarrow$ Activation function of the output layer should be chosen carfeully (which one should we be using here?)"
   ]
  },
  {
   "cell_type": "code",
   "execution_count": 4,
   "metadata": {},
   "outputs": [],
   "source": [
    "transform = transforms.Compose([\n",
    "     transforms.ToTensor(),\n",
    "     transforms.Normalize(mean=(0.5, 0.5, 0.5), std=(0.5, 0.5, 0.5))\n",
    "])\n",
    "\n",
    "denorm = denorm_for_tanh\n",
    "\n",
    "train_dat = datasets.MNIST(\n",
    "    \"data/\", train=True, download=True, transform=transform\n",
    ")\n",
    "test_dat = datasets.MNIST(\"./data/\", train=False, transform=transform)"
   ]
  },
  {
   "cell_type": "markdown",
   "metadata": {},
   "source": [
    "### Hyper-parameter selection"
   ]
  },
  {
   "cell_type": "code",
   "execution_count": 5,
   "metadata": {},
   "outputs": [],
   "source": [
    "if not os.path.exists('./single_layer_AE'):\n",
    "    os.mkdir('./single_layer_AE')\n",
    "    \n",
    "num_epochs = 5\n",
    "batch_size = 128\n",
    "learning_rate = 1e-3\n",
    "latent_dim = 32"
   ]
  },
  {
   "cell_type": "markdown",
   "metadata": {},
   "source": [
    "### Define the dataloaders"
   ]
  },
  {
   "cell_type": "code",
   "execution_count": 6,
   "metadata": {},
   "outputs": [],
   "source": [
    "train_loader = DataLoader(train_dat, batch_size, shuffle=True, num_workers=16)\n",
    "test_loader = DataLoader(test_dat, batch_size, shuffle=False, num_workers=16)\n",
    "\n",
    "it = iter(test_loader)\n",
    "sample_inputs, _ = next(it)\n",
    "fixed_input = sample_inputs[:32, :, :, :]\n",
    "\n",
    "in_dim = fixed_input.shape[-1] * fixed_input.shape[-2]\n",
    "\n",
    "save_image(fixed_input, './single_layer_AE/image_original.png')"
   ]
  },
  {
   "cell_type": "markdown",
   "metadata": {},
   "source": [
    "### Define the model\n",
    "\n",
    "#### Single layer AE structure\n",
    "\n",
    "<img src=\"imgs/single_layer_AE.png\" width=\"300\" />"
   ]
  },
  {
   "cell_type": "code",
   "execution_count": 7,
   "metadata": {},
   "outputs": [],
   "source": [
    "class AE_single(nn.Module):\n",
    "    def __init__(self, in_dim=784, h_dim=32):\n",
    "        super(AE_single, self).__init__()\n",
    "\n",
    "        self.encoder = nn.Linear(in_dim, h_dim)\n",
    "\n",
    "        self.decoder = nn.Sequential(\n",
    "            nn.Linear(h_dim, in_dim),\n",
    "            nn.Tanh()\n",
    "            )\n",
    "        \n",
    "    def encode(self, x):\n",
    "        z = self.encoder(x)\n",
    "        return z\n",
    "    \n",
    "    def decode(self, z):\n",
    "        x_recon = self.decoder(z)\n",
    "        return x_recon\n",
    "\n",
    "    def forward(self, x):\n",
    "        z = self.encode(x)\n",
    "        x_recon = self.decode(z)\n",
    "        return x_recon"
   ]
  },
  {
   "cell_type": "code",
   "execution_count": 8,
   "metadata": {},
   "outputs": [],
   "source": [
    "single_layer_AE = AE_single(h_dim=latent_dim)"
   ]
  },
  {
   "cell_type": "markdown",
   "metadata": {},
   "source": [
    "### Define Loss function"
   ]
  },
  {
   "cell_type": "code",
   "execution_count": 9,
   "metadata": {},
   "outputs": [],
   "source": [
    "criterion = nn.L1Loss(reduction='sum')  # can we use any other loss here?\n",
    "def loss_function_AE(recon_x, x):\n",
    "    recon_loss = criterion(recon_x, x)\n",
    "    return recon_loss"
   ]
  },
  {
   "cell_type": "markdown",
   "metadata": {},
   "source": [
    "### Initialize Model and print number of parameters"
   ]
  },
  {
   "cell_type": "code",
   "execution_count": 10,
   "metadata": {},
   "outputs": [
    {
     "name": "stdout",
     "output_type": "stream",
     "text": [
      "Total number of parameters is: 50992\n",
      "AE_single(\n",
      "  (encoder): Linear(in_features=784, out_features=32, bias=True)\n",
      "  (decoder): Sequential(\n",
      "    (0): Linear(in_features=32, out_features=784, bias=True)\n",
      "    (1): Tanh()\n",
      "  )\n",
      ")\n"
     ]
    }
   ],
   "source": [
    "model = single_layer_AE.to(device)\n",
    "params = sum(p.numel() for p in model.parameters() if p.requires_grad)\n",
    "print(\"Total number of parameters is: {}\".format(params))  # what would the number actually be\n",
    "print(model)"
   ]
  },
  {
   "cell_type": "markdown",
   "metadata": {},
   "source": [
    "### Choose and initialize optimizer"
   ]
  },
  {
   "cell_type": "code",
   "execution_count": 11,
   "metadata": {},
   "outputs": [],
   "source": [
    "optimizer = torch.optim.Adam(model.parameters(), lr=learning_rate)"
   ]
  },
  {
   "cell_type": "markdown",
   "metadata": {},
   "source": [
    " ### Train"
   ]
  },
  {
   "cell_type": "code",
   "execution_count": 12,
   "metadata": {
    "scrolled": true
   },
   "outputs": [
    {
     "name": "stdout",
     "output_type": "stream",
     "text": [
      "epoch [1/10], loss:180.3450\n",
      "epoch [2/10], loss:109.9410\n",
      "epoch [3/10], loss:91.3170\n",
      "epoch [4/10], loss:80.7935\n",
      "epoch [5/10], loss:71.9341\n",
      "epoch [6/10], loss:64.8662\n",
      "epoch [7/10], loss:59.5558\n",
      "epoch [8/10], loss:56.8668\n",
      "epoch [9/10], loss:54.2761\n",
      "epoch [10/10], loss:51.6723\n"
     ]
    }
   ],
   "source": [
    "model.train()\n",
    "\n",
    "num_epochs = 10\n",
    "for epoch in range(num_epochs):\n",
    "    train_loss = 0\n",
    "    for batch_idx, data in enumerate(train_loader):\n",
    "        img, _ = data\n",
    "        img = img.view(img.size(0), -1)\n",
    "        img = img.to(device)\n",
    "        optimizer.zero_grad()\n",
    "        # forward\n",
    "        recon_batch = model(img)\n",
    "        loss = loss_function_AE(recon_batch, img)\n",
    "        # backward\n",
    "        loss.backward()\n",
    "        train_loss += loss.item()\n",
    "        optimizer.step()\n",
    "    # print out losses and save reconstructions for every epoch\n",
    "    print('epoch [{}/{}], loss:{:.4f}'.format(epoch + 1, num_epochs, train_loss / len(train_loader.dataset)))\n",
    "    recon = model(fixed_input.view(fixed_input.size(0), -1).to(device))\n",
    "    recon = denorm(recon.cpu())\n",
    "    save_image(recon, './single_layer_AE/reconstructed_epoch_{}.png'.format(epoch))\n",
    "    # save the model\n",
    "    torch.save(model.state_dict(), './single_layer_AE/model.pth')"
   ]
  },
  {
   "cell_type": "markdown",
   "metadata": {},
   "source": [
    "### Test"
   ]
  },
  {
   "cell_type": "code",
   "execution_count": 13,
   "metadata": {
    "scrolled": true
   },
   "outputs": [
    {
     "name": "stdout",
     "output_type": "stream",
     "text": [
      "Test set loss: 50.3125\n"
     ]
    }
   ],
   "source": [
    "# load the model\n",
    "model.load_state_dict(torch.load(\"./single_layer_AE/model.pth\"))\n",
    "model.eval()\n",
    "test_loss = 0\n",
    "with torch.no_grad():\n",
    "    for i, (img, _) in enumerate(test_loader):\n",
    "        img = img.view(img.size(0), -1)\n",
    "        img = img.to(device)\n",
    "        recon_batch = model(img)\n",
    "        test_loss += loss_function_AE(recon_batch, img)\n",
    "    # reconstruct and save the last batch\n",
    "    recon_batch = model(recon_batch.view(recon_batch.size(0), -1).to(device))\n",
    "    img = denorm(img.cpu())\n",
    "    # save the original last batch\n",
    "    save_image(img, './single_layer_AE/test_original.png')\n",
    "    save_image(denorm(recon_batch.cpu()), './single_layer_AE/reconstructed_test.png')\n",
    "    # loss calculated over the whole test set\n",
    "    test_loss /= len(test_loader.dataset)\n",
    "    print('Test set loss: {:.4f}'.format(test_loss))"
   ]
  },
  {
   "cell_type": "markdown",
   "metadata": {},
   "source": [
    "### Visualizations"
   ]
  },
  {
   "cell_type": "code",
   "execution_count": 14,
   "metadata": {
    "scrolled": true
   },
   "outputs": [
    {
     "data": {
      "image/png": "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\n",
      "text/plain": [
       "<Figure size 432x288 with 1 Axes>"
      ]
     },
     "metadata": {
      "needs_background": "light"
     },
     "output_type": "display_data"
    }
   ],
   "source": [
    "# visualize the original images of the last batch of the test set\n",
    "img = make_grid(img, nrow=4, padding=2, normalize=False, range=None, scale_each=False, pad_value=0)\n",
    "show(img)"
   ]
  },
  {
   "cell_type": "code",
   "execution_count": 15,
   "metadata": {
    "scrolled": true
   },
   "outputs": [
    {
     "name": "stdout",
     "output_type": "stream",
     "text": [
      "torch.Size([16, 1, 28, 28])\n"
     ]
    },
    {
     "data": {
      "image/png": "iVBORw0KGgoAAAANSUhEUgAAAQgAAAD8CAYAAACLgjpEAAAABHNCSVQICAgIfAhkiAAAAAlwSFlzAAALEgAACxIB0t1+/AAAADl0RVh0U29mdHdhcmUAbWF0cGxvdGxpYiB2ZXJzaW9uIDMuMC4yLCBodHRwOi8vbWF0cGxvdGxpYi5vcmcvOIA7rQAAIABJREFUeJztnXeYVGWyuN+aAYYgOScRVsAAophAedYsonINqOyK/rwqy64rBtRV0buK3FXXNa26roA5I6Io4hpAl1W8goqrKIskQRwlKgbiMMz3+6O7zul0ekKnM0O9z9NPz5w+3V0ndH31VdVXJc45DMMwUlFUaAEMwwgvpiAMwwjEFIRhGIGYgjAMIxBTEIZhBGIKwjCMQExBGIYRSM4UhIicICKLRWSZiFybq+8xDCN3SC4SpUSkGFgCHAeUAh8Cv3bO/SfrX2YYRs6ol6PPPQRY5pz7EkBEJgOnACkVhIhYOqdh5J4Nzrm21XlDrqYYnYGvY/4vjW7zEJFRIvKRiHyUIxkMw4jnq+q+IVcWhKTYFmclOOcmAZPALAjDCCu5siBKga4x/3cBvs3RdxmGkSNypSA+BHqKSHcRaQD8Cpieo+8yDCNH5GSK4ZwrF5HRwBtAMfCIc25hLr7LMIzckZMwZ7WFMB+EYeSD+c65g6rzBsukNAwjEFMQhmEEYgrCMIxATEEYhhFIrhKlagUikXyuMDhqs0mjRo0A2L59OwAVFRWFFCerFBVFxrS6dExhxiwIwzAC2WUtiHr16nHVVVcBcM455wDwxBNPAHD77bcD4bYsGjRoAMBpp53Gb3/7WwD69OkDQMOGDQHYuXMnAPPnz+fMM88EYOPGjfkWtcaUlJQAcMcddwAwbNgwz+r74x//CMBDDz1UGOF2EXa5PAi9wSZMmMDIkSPjtpWVlQHQrFmzuP/DxA033ADA9ddfD0D9+vWr9L6ff/4ZgA4dOgCwdevWHEiXGargpk2bBkC3bt2AiDJPRKdP7dq1A/zjCzM6PXLOVWnwUQWpg8GWLVsAX/HXAMuDMAwje+xyU4zGjRsDMGLECM9yUNTxFQarSlFr5uuvI6vnmzZtGrhvotyxx7fbbrsBcNtttwFw6aWXZlXOmtKmTRsAli5dSvPmzav8PrUqevbsCcDHH3+cfeEyRM9/p06dAOjcOVLxYOHChZ41EHSvFRcXM3jwYAD69+8PwNNPPw3AsmXL8naPmgVhGEYgu5wF0aRJE8CfD8aybNkyAMrLy/MqUxBFRUUsXboUCLYcnHO8+eabADz55JOA73Q96qijAH8uC3D00UcDhQ/x3n333QBcdtllgfuobPoce83079NPPx0IlwWh53b8+PEAjBo1CvD9JkOGDGHhwvRrFxs3bswtt9wCQPfu3eOezz//fLMgDMMoPHXCgki0BtIl0agW37x5sxcOVG08YcKEuP8Lzd57703Lli1TvvbDDz8A0KVLF28+q0yZMgXwR1WNDoDv9dc5/I4dO7IrdCVceeWVQHrL4YsvvgDwwrd6nZ555hlat24N+KP0EUccAUTm7JCRhz9rDB8+HIBrrrkG8M91daIQ48ePZ++9947btt9++wH5TRKrEwpCqcoPW/fR0FHstrAoBmXZsmUsWrQIgH79+gEwdepUAC+vIZXMqjB33313b5v+oFatWgUUbhqlPxpFZS0vL+e0004D4JVXXkm5TyplplOvMGVWTp48GYgotFg2b94MwJdffhn4XnXUjh49OmkaOHbs2KzLWhk2xTAMI5A6YUGkCu8FWQNdu0ZKZWq4M/b9+Ta3K6OsrIxLLrkEiDi2IL3loKgZnuoY33777Urfn0t+/PFHAFq0aAHAd999B0SmSmvWrEn5HnWytm2bXLF93LhxQHisv8aNG3vHqKhsN998M5A+Ae9f//oX4E+ZADZt2gTArFmzsiprVTALwjCMQOqkBZEKnc/pSBzr2NT56zvvvJMD6WqOc445c+YA1ZtjH3rooUD8KKQ+h3vvvTeLElaP4uJinnvuOQBKS0sBePjhh4HU1pteI90n9nh++uknAKZPD1ct5P333z/Jaa7H9sgjjwS+r2PHjgDsu+++3ja9r0ePHg0Uxm9kFoRhGIHUCQuiKqgFsW7durj/wZ8Trly5Mu9yVUZNvPOnnnoqEH+M33zzDQDfflu49iQ7d+7kT3/6E+CHm9NFYZ599lkAzjjjDO813f+8884DwhW9ABg0aFBSCr8uqNOkrmeffdY7Dg3TqiWkVpJzjnvuuQeAp556KveCB2AWhGEYgewyFoSiS4hj0bldWFKsa4om5AwbNixue0VFhbe0vdAj7rZt2yrdZ8SIEQAMHToUIGlEhvBFnBRdfBaLyv/oo48CMHHiRO86aBJY4jFu2rTJq3lRyAjNLqMg9CQfeOCBSa/pzZbuQiRewLCE1cA3yWfMmAH4602UGTNmeOHN2oCueky1Xkavg65TeO2114DwXI8PPvgg8DWVvX79+imPLZapU6cmZcgWAptiGIYRyC5TUUpTq7WuQmzSjYYS1WGU6pwUevVjEEVFRV6JvMsvvxzwZdXU3latWoXWJE+Fhvw0JDtw4EBvux6bTgfVgRmWcGeTJk28NTC/+MUvAF/WuXPnAnDfffd5KzyPO+64uPer83b33Xdn/fr12RYvfxWlRKSriPxTRBaJyEIRuSy6vZWIzBSRpdHn1KuNDMMIP1ofr7oPoCPQP/p3U2AJsA/wF+Da6PZrgduq8Fku14+99trL7bXXXq68vNyVl5e7iooKt3PnTrdz50538MEHu4MPPjjnMuTi0atXL1dWVubKyspcRUVF3OPcc8915557bsFlrOlDRJyIuJKSEldSUuImT56cdIwrV650K1euLLissY/mzZu75s2bux49ergePXq44uJiV1xcHLdP9+7dXffu3b1rp/fitGnT3LRp05L2z9Ljo+r+zmtsQTjnVjvnPo7+/TOwCOgMnAI8Ht3tceDUmn6HYRiFJStRDBHZAzgAmAe0d86thogSEZF22fiOmqJz1nPPPTfuf/Dne5VV9wkjGqmYN29eXAoy+KHMww47DIAXXnghFB7x6qL+Hr1O559/vhfC1WPWsGKYGuroYq3ERVuxJEbO9H9NRQ9DXQvIgoIQkd2AF4DLnXM/pYpZB7xvFDAq0+83DCN3ZKQgRKQ+EeXwtHPuxejmtSLSMWo9dATWpXqvc24SMCn6OS4TOSqREYC+ffvG/Q+wYcMGwB+hagM6YmrREa1WDf5opGhy1PDhw70FTzfddBPgLyGuTZSUlATmD4TJgqgK9913H+Ant2kC2fz58wsmUypqrCAk8kt7GFjknLsr5qXpwHnAn6PPL2ckYYboDZOqwczy5cvj9gkz7du3B/AqTMUqBkWPI3HK0aJFC8aMGQP4oVwNr6Uzg3OJ/qC1dkXfvn29alcrVqwAfDNblfrs2bOTEtZ0n9pwDZU2bdpwwgknAP6x6SClYfiwkIkFcThwLvCZiHwS3XYdEcUwRUQuBFYBZ2YmomEYhaLGCsI5NwcIcjgcU9PPzTaJU4xYwj61KCoq8iyHmTNnAn4lpliqkrylI7a23KvKmohcotdj9uzZgN8gCPwELy35r7U11dqI5b333gNqhwWh1+C1117zEvf02r3//vtA4a9LIpZqbRhGIHV+sZbO1VPVMwyrBaFWT8OGDfnv//5vwG+akkh5ebm3EEsrIuuCtNimt1rv8ZhjjvHeV0hUNrUcUrUJPOCAAwLfr/Jrjc7agLbgiy1nr+HNxGrfYcEsCMMwAqmzFoSOSFpdKdGzD36NwLAtwFJ5tm7dyosvRqLHxx9/PODXD9AoRKpwpc5vDz/8cCAyWqsPIyzogqY33ngDgMGDB6es+wC+f2Hr1q18+umngB/CVX9FbeCQQw4BIveiWkC6PFyjU2Gjzq/mVMeWrtjUFXazZs3ipJNOAsKnIHZ1wrpyNlO0IO3kyZO9orvXXXcd4Je7zzH5W81pGEbdp85bEIZheJgFYRhG9jAFYRhGIKYgDMMIxBSEYRiBmIIwDCMQUxCGYQRiCsIwjEBMQRiGEYgpCMMwAjEFYRhGIKYgDMMIxBSEYRiBmIIwDCMQUxCGYQRiCsIwjEDqbMm5bFBUVFQryqkrWlZv/PjxAIwdO9Z7LagjlWGkw+4awzACsYpS1URLyxeqZV06hg4dCsBLL70ExJeS1+v8hz/8AYC77747bruRO7RlwZtvvglA586dPctUa1FeeeWVgN8sKEfdva2ilGEY2WOXsSB0NI3tAl2dlnV77bUXAH/5y18AOPnkk2ncuDEAW7Zsybq81UGb0GhznFatWiXt8/nnnwPQv39/oPCNc1IRVPZefStdunRh3LhxgN+E+B//+AcAl112GRCu49JGvJ07d650X70XtZnT8uXLufDCCwG/NH4WyL8FISLFIvJvEZkR/b+7iMwTkaUi8pyINMj0OwzDKAwZWxAicgVwENDMOXeyiEwBXnTOTRaRCcCnzrkHKvmMnFkQ6jP4zW9+A8BZZ52l38l9990HwOuvvw7g9Spo06YNABMnTuSoo44CoKSkxHufEobIgIjw97//HYDf/va3KfcpLS1l//33B+D777/Pm2yJFBUVec2Hf/e73wG+JbDvvvt6TYEaNWrk7Q++hVRUVJRkZej9O23aNADOOOOMXB5CpRQXF1NaWgrgNV6uDno8IuL9vXLlSsDvq5FBg99qWxA452r8ALoAbwFHAzOIdPveANSLvj4QeKMKn+Oy/Wjbtq1r27atW7NmjVuzZo2rqKgIfOzcudPt3LnTbdu2zW3bts2VlZW5srKytO+pqKjIusw1eQwcONDt2LHD7dixI0m+TZs2uU2bNrlmzZoVXE7A9evXzy1fvtwtX768yue4qo8FCxa4BQsWFPwYe/Xq5bZu3eq2bt1apXuuOse4du1at3btWtegQYOayvdRdX/jmQ6BfwWuBjRZoDXwg3NOJ4KlQOUTMMMwQkmNE6VE5GRgnXNuvogcqZtT7OoC3j8KGFXT768MTRJq165dpfuq2Vq/fn0Az7RzzgU6zgo9vWjSpAkAL7zwQlLfUTVB99xzT8CfOhWa3r17e9MIJXaKq3+ro/G7774D4JtvvgGgV69eXjfwRFavXp11eWvCqlWrvCmGtnlMRdB9lY6WLVsCEWftl19+WTMBq0kmmZSHA/8lIicCDYFmRCyKFiJSL2pFdAG+TfVm59wkYBLUrjwIw9iVqLGCcM6NBcYCRC2Iq5xzI0TkeeAMYDJwHvByFuSsNsOGDUv7+tatW/n5558Bv3v0F198AcCHH34IRLS8OtVOOeUUwHdWpkKdabkMtenIo87Wdu3aeSPvxo0bAdhvv/0AP+wZFl566SUvZLfHHnsAMHv2bAD69evH8uXLgci1AT9ZSI/50EMPZdasWQBeiFmP/aGHHsr9AVSBbdu20bNnT8B3CKujvCZWA/jn45ZbbgFgxYoVmYpZZXJhJ18DXCEiy4j4JB7OwXcYhpEH6mSiVIMGDbzRVENmio40F110kbdNR/4dO3YApFygpXPnbt26AbB48eJsilxldF67YMECIHJ8ZWVlQGRuCrBhw4aCyFYVgsKUVaFr166elaHXTK0M9TXpdS8keowjRowA4JFHHgF8mdOh9155eTkvvxwxvkeOHAngWbwZYKnWhmFkjzq53LtNmzZJvgIdaTS6EZtqrVo73WimkQFdTJNvdPTROXysZXT11VcDyZaDRjc6derkRTSOO+44AFq3bg3AFVdcwebNm3MoeTyZWKx333130iisfpYffvghI7myiR7j9OnTAf+6dOjQIfA9en++++67AJx99tmh8CHVSQUxbNiwpDCk/lj+9re/ARGzb9OmTYDvlKyKc1GVSWymWz646667AD/UpZSXlzNhwgRPJvDXW8ycOROIOMnSOciCMjDDgl67wYMHJ7125513ApkpnlyhP/p169YBfmZlqmuh99XNN98MhMfBbFMMwzACqZMWhIbAUjF8+HDADxMCzJ8/H4iE0aBqo1G+RiydSlx88cUpX9+xY4e30vTII48E4LbbbgPSh2SVY489NgtS5hY9jthplY64Tz75ZEFkSodaCHfccQfgrwROZ8Xp1EmtubfeeiuXIlYZsyAMwwikToY569Wr56UXJ6b2puPhhyMpG6NGRTLAw3BudNWjrthMROsHQCS8m4p0I9d3331H27ZtM5Aw92hI+v777/e26Rxdw84aog4Dr7zyCgAnnXRSytfLy8s9v0ritdHj6NKlC+vXr8+2aBbmNAwje9RJCwL8xVQ6OupIo8/33HNPUthJoxqdOnWK+7+QrF27FqBao7yGZOfMmQPAYYcdFuiXueSSS+JG5jChvgc9B7ELtbRy90033QSEw9oDGDduHDfccEPK19TXdfbZZ3vWnqaaa9hZ+f77771rnsVjMwvCMIzsUWctiMpo1aoV334bWWiq2lzzIDp27Aj4y40LRVFRkedjSFzSnQqVX5NttGLypZdempQ/oUuSe/bs6aVqh42JEycCfjUw8K06TSsPy1J29SVs3749KZlLk7g0D2LHjh3e/scffzwAr776KhBfRuCwww4DYO7cudkSs9oWRJ0Mc1aFVIqxKhmV+aSoqKhKdSdUMeiPR2+sQYMGARGnrR7TqlWrABgwYABAKJWD1ro4++yz47Y75zynbVgUg6JTuFSKXEOWsYl4ej20FL6us9CVnwAPPvggAH379s2BxFXDphiGYQRSay2IkpISb4T87LPPAD+lNR0a9ly8eHFSWFCde2HJ6w8KWyaio1a6ugM6pTjhhBOAqp2rfKNyjxkzBkhOeFuzZg3PPfdc3uWqCjrlSUW6tS5qSWjNh1gLoiZFb7ONWRCGYQRSay2I0aNHc+uttwL+3E5DXnfddZfnT9BQ2TnnnANEwpux28HX4ho6C0vD3m3btnmOUi3Fn4qgRCg9riVLlvDLX/4SIBfJN1lDfQ/aBEePS6/H6NGjc9WSLmOWLFkCRHw6iSnuJ554IuAfT6yPS+ugpgpjF7JFgWIWhGEYgdRaC6JFixZeOEmf1aL405/+5Hn0VZunanyjmnzevHmA39A2LFRUVHhVhS644AIgfdq0jrTqS9E2gX/+859DGa1I5PnnnweSk4bUatDErzCi99LUqVO9SlKKtkLUVnqPPfaYdz9+/PHHQHL0wznHIYccklOZq0KtzoOozlRAj1Nz3efMmcPo0aMB3zwMy9QiFlUImp2nMuvxbNiwwSti8z//8z8ALFy4EAjn8QSx5557ekWDE0O76sBr1apV3NqTMNKwYUMvZBmUuxJ7XYLC2B9//DEHHVS9JlhVwDIpDcPIHrXagjj88MMBeOedd/RzkvbRkOUVV1wBRMw7Izyoqb1ixYrAkmzaJTvMWZ+xaGFknRZWh9hwZw7aJ5gFYRhG9qi1TkqA9957D0ie682ZM8ebj+t6hDBYSkYyWntDQ5yx6DVTv0ttsB4Afv/73wN4Jfqvu+46wE/8EhHPOtBKYZoAFrYUcrMgDMMIpFb7IIy6hY6qVWkwY9QI80EYhpE9TFUbocEsh/CRkQUhIi1EZKqIfCEii0RkoIi0EpGZIrI0+tyy8k8yDCOMZDrFuAd43Tm3F9APWARcC7zlnOsJvBX93zCMWkiNnZQi0gz4FOjhYj5ERBYDRzrnVotIR2C2c653JZ9lTkrDyD15dVL2ANYDj4rIv0XkIRFpArR3zq0GiD63S/VmERklIh+JyEcZyGAYRg7JREHUA/oDDzjnDgA2U43phHNuknPuoOpqNMMw8kcmCqIUKHXOzYv+P5WIwlgbnVoQfQ5fbTPDMKpEjRWEc24N8LWIqH/hGOA/wHTgvOi284CXM5LQMIyCkWng+RLgaRFpAHwJnE9E6UwRkQuBVcCZGX6HYRgFwlKtDWPXwVKtDcPIHqYgDMMIxBSEYRiBmIIwDCMQWz5n1Bp69uzptQFo1qwZkL7lXVgYOnQoAK+88goATZs29VpAal1VraeqFdDC0DQHzIIwDCMNZkHEoLUtGzVqBEQa0OSgsnDe0FGpVatWTJw4EYCjjz4agM8//xzAa8kXZvR6TJkyhT333BPwq09pA+ewNNUREa9RzhNPPAHAYYcdBkQsB92nsnaJa9asYa+99gLw+mwUArMgDMMIZJdOlNIKRn/84x8Bv/qwdjsqLy9n7NixQKQhcNhRuXXE+utf/wrAfvvtF1itqaysjG7dugGwdu3aPEhZfdRKmDlzJg0aNAD86s+dOnUC/H4ShWbWrFkce+yxQHBns9jfXLpWigsWLABg//33z5Z41U6U2uUUhF6Q5s2bc8YZZwBw3333ASR1ZQbflO3evTsA33zzTT7ErBT9wXfp0sXrXD5mzBgg0rcU0t98seiPS3tiam/PQqMK76mnngJg+PDh3msvvfQSgHcNC3Uf6zn+9ttvAWjfvn3gvj/++CMAjz76KMuWLQPw+m8ef/zxALRrF6mOUFRU5PUk1ZYAWSj7b5mUhmFkjzrvpFQNr2ExDSuNGDHCcwJpe742bdoA8Y14dBTr168fUHgLolevXgC8+uqrAHTr1i3jYq/qBNQWhmHoKg2+lXTggQcC8Q1n1OlaaAtYWzqmsxymT58OwOmnnw7ETz0eeOABwLf61LJo2bKld+917doV8Bvx5BOzIAzDCKTOWhC77bYb4DdSHTJkCOCPlj///DNXXnklAM8++yzgWxt33nknEGm+qvPATZs25Uny1Kj8kydPBvyQWVVwznmjVlBLeoDBgwdnIGHVSPSLpLMAdO6tvpHY/f/973/nQLrqoz6QVNx+++0AXHPNNYH76PGo0zXV9SlkOz6zIAzDCKROWRA6OjnnWLNmDeBbDMqOHTsAGDlyJNOmTUv5OZrOO3LkSE/DVzUikG3UL/Laa68B1bMclG3btnlpvgcffDAAe+yxBxB/XJo81blz5xrLmw4R8VKMt2/fDqS2IGITvCD5Gga9LxGdwweFG7OBplGrRdOsWTOaN29e7c9RH0ZsE2M9Rxs2bMhUzBpTJxSEmmU6ZbjpppuoX78+4IeGZsyYAcDll18OpHY26g314osvAlC/fn1vW6FyBObOnQtAjx49AvcJUmKbN28GoG3btl7oUvMINHQ4bNgw7325vhFjnYzpfuAqzwUXXADgKZXY9+m0I53M+XBg6vcfcMABGX3nJZdcAsRPMRYtWpTRZ2YDm2IYhhFIrU6U0tH9xhtvBOIzITV02bFjR6BqSSZfffUV4IeVAM9JqUlUuTRXE+nYsWOlYdWKigpvxNVnlVFN9FROLjVply9fTuPGjQFYvXo1kNspRqKMqdBzvXDhQiDeelKrSKdI3333XS5EzTt6XLHTqb59+wL+ecgClihlGEb2qNU+iN///vcAXH/99YBvUTjnOOKII4D0loOuQVAHkyarxPLBBx8A+bUcFPWFpEOPORb1l6QLj+nIGzvnzfVo7Jyr0nxa041TXY/S0lIANm7cmF3hCoQea6IjdvPmzZ4PopCYBWEYRiC12oK49tpIp7/EUVREvBV1//nPfwB/pDzuuOMAmDRpEm3btgXwIh6JlJWVeQlK+URlVc94dfnHP/5R6T4HHRSZitarV88b1U877bQafV+2UR9IbMgPIv6gUaNGAYWx6LKJXuMvv/wybrseV+/evUNxjGZBGIYRSK21IIqLi70IRSq0fsP//u//An4sPdbaCNLQun3s2LEFSXNV77XmLKRCE76Kioo8eXVefssttwS+TxdAvfHGG0DkPGpCztdff52h5JmhEQ6NUCQe//fff8/777+fb7Gyhp773r1789577wF4ESRFK37p8vFCU2sVROvWrauU3agXQM1oLQZ61VVX0bt3pK2oJljpVGPduki/YV3HkS/UpP6///u/wH3Gjx8PwM033+xt0/OQLglJb85Vq1YB8RmZerxZqDeQEaoQVKnHZsYCPPPMM17YuTah5/6GG24AIvdbolNy5cqVALz77rt5la0yMppiiMgYEVkoIp+LyLMi0lBEuovIPBFZKiLPRft2GoZRC6mxBSEinYFLgX2cc1tFZArwK+BE4G7n3GQRmQBcCDyQFWljWLduHVu2bAGSzTTnnGdu60j74IMPAn5CinPOc1JeddVV3jbwE6byvYLzqKOOAuJTi5XE49EpRlUoLi7mww8/BKBDhw5Jr2tthUIiIlx00UVAclq5Xpennnqq4PUfqoM6Ii+++GIA/vCHPwCpp47PPPMMUPU1JvlyYGbqpKwHNBKRekBjYDVwNDA1+vrjwKkZfodhGAWixhaEc+4bEbkDWAVsBd4E5gM/OOe0VnwpkJu8XfyVjlplSdOHlyxZ4s2102lkXbilml61slZryvdola4JjFoV6fwuiSnXWkVr3rx59OzZM+V7tm7dyj333FMjebPJbrvtxrhx44DkY1QfSRZTjnOKWgia6KZ1NtLV4lA/mJb1f+GFF5g9ezbgX3tN7Fu9ejUrVqwAch/urbEFISItgVOA7kAnoAmQKmkg5a9MREaJyEci8lFNZTAMI7fUeLGWiJwJnOCcuzD6//8DBgJnAh2cc+UiMhAY55xLW6qoEGXv27Zt6/kadHGQRjg0USffXn0tb/7xxx8H7qOj6AknnABERqtTTjkFgLPOOgvwF5upjyXVnFdHno4dO7J+/fpsiJ8Rl19+uVfJK9GCUB+J+ijCTPPmzXn77beBmie6Qbz1mhi5adCggWeNVDOqk9fFWquAASLSWCJX9BjgP8A/Aa3DdR7wcgbfYRhGAcloubeI3AQMB8qBfwMjifgcJgOtotvOcc5tr+Rz8mZBaEz63Xff9ao3a0Rg7733BvDmd/lGfQa6VD0dVW2+kohGQ9TK0EhQodCRsLS0NKkytI6Oumy9kC3oKkMrpM+ePdtbgJWO6lQq0331WjVt2pTzzjsPgMcff7w6YlrjnCB0GqGl3fv37++99uSTTwJ+BaNCM2/ePMAvD1dT9NquXr2aESNGAH736LCg07mvvvoqaU2N1qdQ520Y7tVEtDiy3ldV6YK1ZcsWL0NXQ/Q6DYxdF6QNjXRaqauXN2/ezJIlS2oirtWDMAwje9TaVOvqMnLkSMBvwlJUVORpaO3NGRYbpHp8AAAQ90lEQVQGDhwIwIUXXsitt94K+NMPnQ6pk7FRo0beyKtrKjTxS517Ye5QrlO+nTt3JhWZ1cSiMFoOiq6KVYewcy5p2qDHM3VqJD3ooosu8pLw9DU9drV0i4uLvSmVHn8hzoNZEIZhBFLnfRA6Qn322WcA3gIt55xXCl7rIIThXCSiTrxE2XTkKSkp8V4r9GKrmqDHN23aNPbZZx8A77pcffXVQPXSyguFdlS/4YYbvIrbTzzxBOA3hw4B5oMwDCN77DIWxOuvvw7AoEGDAFizZo2n9cOy9t4wcoyFOQ3DCMSmGIZhZA9TEIZhBGIKwjCMQExBGIYRiCkIwzACMQVhGEYgpiAMwwjEFIRhGIGYgjAMIxBTEIZhBGIKwjCMQExBGIYRiCkIwzACMQVhGEYgpiAMwwjEFIRhGIHUeQXRtm1br+IwRKpDa4VoI9yISLWaAtUWunbtyieffMInn3xCeXk55eXlVFRUxD1Cg3Ou4A8iDX4zfvTp08f16dPHrVy50lVUVKR87Ny50+3cudOtX7/etW7d2rVu3Tor311bHsXFxa64uNg1bdrUNW3atODy7EqPoqIiV1RU5JYsWRJ4f+7YscPt2LHDTZgwwTVp0sQ1adIkmzJ8VN3fZp23IAzDqDl1qiZlbBOSqphp27ZtA+CXv/wlAB999FE2xMgLjRo1AmDIkCFeN3DtVp7qmmop9ueffx6Ali1bAnDppZfy/vvvA+FusFMXOOmkkwC/rH8ses1efjnS6/qss87KxfXIfk1KEXlERNaJyOcx21qJyEwRWRp9bhndLiJyr4gsE5EFItI/+JMNwwg7lVoQIvJLYBPwhHOuT3TbX4DvnXN/FpFrgZbOuWtE5ETgEuBE4FDgHufcoZUKUUMLQkfRH3/8EfBL3Kci8ThjnV/a4qxNmzZAuBu1aLPYTz/9FIg4vJYuXQrAgAEDgOQu2EVFRfzzn/+M20fbDh544IF8+eWXQGrLIwzotQqrfJWhbfXWrl0L+NYc+B3MtTWkNpLOkaMy+xaEc+4d4PuEzacA2nf8ceDUmO1PuAhzgRYi0rE6AhmGER5q2ry3vXNuNYBzbrWItItu7wx8HbNfaXTb6sQPEJFRwKgafj/gj4I69/7FL36R9NqNN94IwNtvvw3A3/72N8AfSQGaNGkCQIsWLQBYv359JmLlFPWTdO/e3dvWrVs3wG/em0jXrl2941UrS62MVatWhW5k1uvQs2dPADp16gREZP7ggw8A2Lx5M5BsVTRq1IgjjjgCgF69egFw/PHHA3DyySfnWPLUqO+hVatW3ja1HM444wzA90uEKsRJ9rt7pwpap7z7nHOTgEmQuZNy1KiInrn33nuBiMLQfpuJ04XTTz8dgNLSUs/0UxO2c+fOQDgVhDoV99xzz6TXtJt3UG/OG2+8kfr168dte/rpp4HwTKdEhKOPPhqARx99FID27dsDvlJzznlK8I033gBg4cKFABxzzDFApNt27P7g9//MNw0bNgTgmWeeAeKntTNmzIh7DptiUGoa5lyrU4fo87ro9lKga8x+XQDra2cYtZUqJjLtAXwe8//twLXRv68F/hL9+yTgNSKWxADgg3wkSomIExHXrFkz16xZs7T7duvWzXXr1s2Vl5cnJacMGjTIDRo0yPu8TOXKxSMxsWbJkiWB+9avX9/Vr1/flZWVJSWKhS1J7IILLnDbt29327dvD0wiSpf4po9USUeFOqYVK1a4FStWJMm2ZcsWN2DAADdgwIB8y1TtRKlKpxgi8ixwJNBGREqBG4E/A1NE5EJgFXBmdPd/EIlgLAO2AOdX9vmGYYSXShWEc+7XAS8dk2JfB1ycqVDVReeaieG9WHQeumDBAsAPPcX+rfPyY489FoBly5YV3IGn81YN5So6Zx0yZEjge++//34gPvy7adMmAL7/PjEwVRjUQTx+/PgkP0k69Pg1mSj2euprQ4cOzZaYVaZdu3YsWrQI8J2teg1V1okTJ3rO1rBjqdaGYQSS7ShGQUk12qvlMHfuXACaNm2atI9q+C5dusTtu//++/P1118n7Z9Pzj33XMAfaRUdjRo0aOAdox6/po5fcMEFSZ/30ksvxe1baPTca5QmHZs3b+aSSy4BfO+/Wg6afNS+fXvWrYv4zLds2ZJ1eYNQ6+err76ipKQk7jW9Vvvssw8QsUyr85kaHtXQ6LZt2zxLMNeYBWEYRiB1yoJIRYMGDQA/bt6nTx8gop0T4+SJo9njjz/uxeYLxaWXXgqQVBdBj+uTTz7hu+++i9tHR9PYebke680335xbgauJ5jVs377dS51PRGUfOnQo//rXv+K2KWo16PwfoHHjxlmXN4gXX3wRIMl6APjd734HpLcc9FqptXDOOedw9tlnA7DffvsBvm/lueee4/zz8+P/r1OrOav4XUDkghx11FFAxGkE8dmJEDHpdFtpaWm+RIxDnaqq2NKh1zJVkRVNiOrbty8AS5YsyZaIGaE/jPfee49DD029bEeVyKuvvupNuTRTtiqfncskJHUAq4yx537NmjWAn4CX6rem2Z3jxo0DoGPHyMqEli1beolWiZSXl3sDRDXJ/loMwzB2XXY5CyLhewHfAagp1rFmopquHTp0yLN0EXbffXfATylOdFZCestB0bULajWFrfZFhw4duOmmmwAYNGgQAM2bNwf8Vbb169f30sn32GMPwF8hWSh0anHqqacmvXb44YcDePU2lGbNmrFq1Srvb/AdkOoUb926dUqHupLomK4iZkEYhpE9dmkLIpFXX30ViE8+0rllkAMtX+hcd+DAgQD8+teR/LW+fft6/gkdcWKdkwAbN270FkDddtttAJ5jM6yLhMA/Hl2tq4lHALfeeisA119/ff4Fwz/HWpUsNhlNf1P9+0fqJX322WcAHHnkkQC89tprSUlhWgfiyiuvBODqq6/2FuGlQt+vlkcVMQvCMIzsUafCnKrFa1o6/NtvkxeehmWE1WSbd999F4A5c+YAkVoJixcvBpItB91+0kkneXNeHXEKXU6+KhEGTQZKlYId28qgEOj5S3Ueddvrr78O+GntvXv3BuKvky4P0KQ2PR9aAyOIaloONcYsCMMwAqkTFoQmBmkcfc6cOfz000/V/pxUnmiNHoQNneeef/75SfHyjRs3Av4cOFXOQKF8T/vuuy/gz7XVEnrssceSrIlU82yNxqSbn+cDlfWHH34A4utMKlrwRp9ToVbv3nvvDfgRGy1slIp0ixKzTa12UqqpptlzmmQyZswYHnnkESD9D0Hfrw48TcKJRROLwqYo2rWLVPlbunSp58zTYz3xxBMBP3s0LNSrV4/VqyPVBzVjUJ3An3zyiXf+VYncfffdgB/SrKio4OKLI4uFJ02alDe506GDioY7q4teMz0v6oht2LBh0pQxdv1NDTEnpWEY2aNWWxBqWmutBDVJy8vLufzyywF/pFEzVbVyv379mDVrFhAfPotl48aNKU3HQqLya1jsV7/6lecUU6eemqlBNSoLhYjwxRdfAH5BWsU5F9f4SPeP5ccff/RqcmqYttCojLoC+KCDDgp0AMf+1hJL+aslpStQi4uLvYQ9rR2hjkxtU1ADzIIwDCN71GoLQkcaHTlTLW7RUUlHU3UKpWuyo1q8WbNmoQlzKpoUNX/+fCA+BKjbDjnkECA8NR9i0dRibReo/oXE+XYq3nzzTa+EfL7CfFVFLYLrrruOiy66CPAXyOmIr87jAQMGeCuGdR9tifjEE09479E0f/U9ZOF6mgVhGEb2qNUWhDJmzBgA7rzzzhq9X+d/b731FuDXMgzDuVF0hNVl2j169EjaR5uw1NSjnk90xNV+FlOmTPGsCz1WtRI0ynTxxReHpo9HJpSUlHgL0TSJKk+Nk6ttQdQJBaFog5Lhw4dX6iiaN2+eV5w2n6XJaoqa4tqHM7YZjP5oNHSouQK1CRHxFIOGbTXeH7bpRC3GphiGYWSPOpFJqWiJLn2uS2hilDpN1YLYvn27l2BUGy0HxTnnWQqanWgUHrMgDMMIpE75IHYlHnzwQQB+85vfFFgSoxZhPgjDMLJIFRrrPkKke3di894vgAXANKBFzGtjifTmXAwMzkfzXnvYwx5VelS7eW9VLIjHgBMSts0E+jjn9gOWEFEKiMg+wK+AfaPv+buIFGMYRq2kUgXhnHsH+D5h25vOOc3smAt0if59CjDZObfdObeCiCVxSBblNQwjj2TDB3EB8Fr0785AbDPL0ug2wzBqIRnlQYjI9UA58LRuSrGbC3jvKGBUJt9vGEZuqbGCEJHzgJOBY5wfKy0Fusbs1gVIrgQLOOcmAZOin5VSiRiGUVhqNMUQkROAa4D/cs7FLmSYDvxKREpEpDvQE/ggczENwygElVoQIvIscCTQRkRKgRuJRC1KgJnRRVFznXO/c84tFJEpwH+ITD0uds5VZaXNBmBz9DkstCE88oRJFjB50hEmWSBenm7VfXMoMikBROSj6mZ55ZIwyRMmWcDkSUeYZIHM5bFMSsMwAjEFYRhGIGFSEOFodOATJnnCJAuYPOkIkyyQoTyh8UEYhhE+wmRBGIYRMkKhIETkBBFZLCLLROTaPH93VxH5p4gsEpGFInJZdHsrEZkpIkujzy3zLFexiPxbRGZE/+8uIvOi8jwnIjXuv1ZNOVqIyFQR+SJ6jgYW8tyIyJjodfpcRJ4VkYb5PDci8oiIrBORz2O2pTwfEuHe6H29QET650me26PXa4GITBORFjGvjY3Ks1hEBlf2+QVXENHVnvcDQ4B9gF9HV4Xmi3LgSufc3sAA4OLo918LvOWc6wm8Ff0/n1wGLIr5/zbg7qg8G4EL8yTHPcDrzrm9gH5RmQpybkSkM3ApcJBzrg9QTGT1cD7PzWMkr24OOh9DiCQL9iSyrOCBPMmTvdXW1V0fnu0HMBB4I6GexNgCyvMycByRehYdo9s6AovzKEMXIjfa0cAMImtcNgD1Up2zHMrRDFhB1FcVs70g5wZ/MWArIkl+M4DB+T43wB7E10dJeT6AicCvU+2XS3kSXjsNeDr6d9xvC3gDGJjuswtuQRCiFaAisgdwADAPaO+cWw0QfW6XR1H+ClwNaFuv1sAPzl9in69z1ANYDzwane48JCJNKNC5cc59A9wBrAJWAz8C8ynMuYkl6HyE4d7OaLV1GBRElVeA5lQIkd2AF4DLnXM/5fv7Y+Q4GVjnnJsfuznFrvk4R/WA/sADzrkDiKTD53uq5RGd258CdAc6AU2ImPGJhCU0V9B7O5PV1koYFESVV4DmChGpT0Q5PO2c07ZUa0WkY/T1jkTK7uWDw4H/EpGVwGQi04y/Ai1ERNfO5OsclQKlzrl50f+nElEYhTo3xwIrnHPrnXM7gBeBwyjMuYkl6HwU7N6OWW09wkXnEzWRJwwK4kOgZ9QT3YCIE2V6vr5cIqvNHgYWOefuinlpOnBe9O/ziPgmco5zbqxzrotzbg8i5+Jt59wI4J/AGfmUxzm3BvhaRHpHNx1DZCFeQc4NkanFABFpHL1uKk/ez00CQedjOvD/otGMAcCPOhXJJVldbZ0P51IVnCwnEvG2Lgeuz/N3DyJiZi0APok+TiQy738LWBp9blWA83IkMCP6d4/oxVwGPA+U5EmG/YGPoufnJaBlIc8NcBORgsmfA08SWVWct3MDPEvE/7GDyIh8YdD5IGLS3x+9rz8jEn3JhzzLiPga9H6eELP/9VF5FgNDKvt8y6Q0DCOQMEwxDMMIKaYgDMMIxBSEYRiBmIIwDCMQUxCGYQRiCsIwjEBMQRiGEYgpCMMwAvn/bMiE7bKXTP4AAAAASUVORK5CYII=\n",
      "text/plain": [
       "<Figure size 432x288 with 1 Axes>"
      ]
     },
     "metadata": {
      "needs_background": "light"
     },
     "output_type": "display_data"
    }
   ],
   "source": [
    "# visualize the reconstructed images of the last batch of test set\n",
    "recon_batch_denorm = denorm(recon_batch.view(-1, 1, 28, 28).cpu())\n",
    "print(recon_batch_denorm.size())\n",
    "recon_batch_denorm = make_grid(recon_batch_denorm, nrow=4, padding=2, normalize=False, range=None, scale_each=False, pad_value=0)\n",
    "show(recon_batch_denorm)"
   ]
  },
  {
   "cell_type": "markdown",
   "metadata": {},
   "source": [
    "## Variational Autoencoders"
   ]
  },
  {
   "cell_type": "code",
   "execution_count": 9,
   "metadata": {},
   "outputs": [],
   "source": [
    "transform = transforms.Compose([\n",
    "     transforms.ToTensor(),lambda x: x>0.5, lambda x: x.type(torch.FloatTensor)\n",
    "])\n",
    "\n",
    "denorm = denorm_for_binary\n",
    "\n",
    "# transform = transforms.Compose([\n",
    "#      transforms.ToTensor()\n",
    "# ])\n",
    "\n",
    "# denorm = denorm_for_sigmoid\n",
    "train_dat = datasets.MNIST(\n",
    "    \"data/\", train=True, download=True, transform=transform\n",
    ")\n",
    "test_dat = datasets.MNIST(\"data/\", train=False, transform=transform)"
   ]
  },
  {
   "cell_type": "markdown",
   "metadata": {},
   "source": [
    "### Hyper-parameter selection"
   ]
  },
  {
   "cell_type": "code",
   "execution_count": 10,
   "metadata": {},
   "outputs": [],
   "source": [
    "if not os.path.exists('./VAE'):\n",
    "    os.mkdir('./VAE')\n",
    "    \n",
    "num_epochs = 100\n",
    "batch_size = 128\n",
    "learning_rate = 1e-3\n",
    "latent_dim = 32\n",
    "intermediate_dim = 256"
   ]
  },
  {
   "cell_type": "markdown",
   "metadata": {},
   "source": [
    "### Define the data loaders"
   ]
  },
  {
   "cell_type": "code",
   "execution_count": 11,
   "metadata": {},
   "outputs": [],
   "source": [
    "train_loader = DataLoader(train_dat, batch_size, shuffle=True)\n",
    "test_loader = DataLoader(test_dat, batch_size, shuffle=False)\n",
    "\n",
    "it = iter(test_loader)\n",
    "sample_inputs, _ = next(it)\n",
    "fixed_input = sample_inputs[:32, :, :, :]\n",
    "\n",
    "in_dim = fixed_input.shape[-1]*fixed_input.shape[-2]\n",
    "\n",
    "save_image(fixed_input, './VAE/image_original.png')"
   ]
  },
  {
   "cell_type": "markdown",
   "metadata": {},
   "source": [
    "## Define the model\n",
    "\n",
    "### Reminder\n",
    "\n",
    "We want to maximize the probability of our training data under the parameters of our model:\n",
    "\n",
    "So, for a data sample $x_i$\n",
    "\n",
    "$ \\log{p(x_i;\\theta)} = ... = \\log{p(x_i|z_i;\\theta)} - D_{KL}(q_\\phi(z_i|x_i)\\|p_\\theta(z_i)) + D_{KL}(q_\\phi(z_i|x_i)\\|p_\\theta(z_i|x_i)) \\geq \\log{p(x_i|z_i;\\theta)} - D_{KL}(q_\\phi(z_i|x_i)\\|p_\\theta(z_i)) $\n",
    "\n",
    "And for the entire dataset:\n",
    "$ \\log{\\mathbb{P}[X;\\theta]} = \\sum_i{\\log{p(x_i;\\theta)}} \\geq \\sum_i{\\log{p(x_i|z_i;\\theta)} - D_{KL}(q_\\phi(z_i|x_i)\\|p_\\theta(z_i))} $\n",
    "\n",
    "* First term: \n",
    "\n",
    "**If continuous variables**:\n",
    "\n",
    "Under gaussianity assumptions, The probabilistic decoder predicts the mean and the variance of the gaussian.\n",
    "\n",
    " $\\sum_i\\log{p(x_i|z_i;\\theta)}=\\sum_i\\log{\\mathcal{N}(\\mu_i,\\sigma_i^2I)}= \n",
    "\\sum_i(-\\frac{\\|x_i-\\mu_i\\|_2^2}{2\\sigma_i^2} - \\frac{1}{2}\\log{|2\\pi \\sigma_i^2I|})$\n",
    "\n",
    "Usually we omit the prediction of the variance and predict only the mean. Thus, we are minimizing:\n",
    "\n",
    "$\\sum_i\\|x_i-\\mu_i\\|_2^2 = \\sum_i\\|x_i-f(z_i)\\|_2^2$ : **Mean squared error**\n",
    "\n",
    "\n",
    "**If  binary variables**:\n",
    "\n",
    "Under bernoulli assumptions, the probabilistic decoder predicts the probability of a sample being equal to 1.\n",
    "\n",
    "$\\sum_i\\log{p(x_i|z_i;\\theta)}=\\sum_i\\log{\\mathcal{Be}(f(z_i))}= $. Thus, we are minimizing:\n",
    "\n",
    "$\\sum_i(x_i\\log{f(z_i)}+(1-x_i)\\log{(1-f(z_i))})$, where $x\\in\\{0,1\\}$ : **Binary cross entropy**\n",
    "\n",
    "* Second term: if $  z_i\\sim\\mathcal{N}(0,I) $, then:\n",
    "\n",
    "$$ - D_{KL}(q_\\phi(z_i|x_i)\\|p_\\theta(z_i)) = \\frac{1}{2}\\sum_{j=1}^J{(1+log(\\sigma_j^2)-\\mu_j^2+\\sigma_j^2)} $$, where $J$ the dimensionality of the latent space\n",
    "\n",
    "(prove it for homework!)\n",
    "\n",
    "1. **Encoder**:\n",
    "Input $\\rightarrow$ Hidden Layers $\\rightarrow$ $\\mu_j,  \\log(\\sigma_j^2) = 2\\log(\\sigma_j) \\, , \\forall j$ \n",
    "2. **Decoder**:\n",
    "$\\mu_j, \\log(\\sigma_j^2) \\rightarrow$ **Sample**: $z_j = \\epsilon_j * \\sigma_j+\\mu_j = \\epsilon * e^{\\frac{1}{2}\\log(\\sigma_j^2)}+\\mu_j \\rightarrow$  Hidden Layers $ \\rightarrow$Output"
   ]
  },
  {
   "cell_type": "code",
   "execution_count": 12,
   "metadata": {},
   "outputs": [],
   "source": [
    "class VAE_three(nn.Module):\n",
    "    def __init__(self, x_dim, h_dim1, h_dim2, latent_dim):\n",
    "        super(VAE_three, self).__init__()\n",
    "        \n",
    "        # encoder part\n",
    "        self.fc1 = nn.Linear(x_dim, h_dim1)\n",
    "        self.fc2 = nn.Linear(h_dim1, h_dim2)\n",
    "        self.fc_mu = nn.Linear(h_dim2, latent_dim)\n",
    "        self.fc_std = nn.Linear(h_dim2, latent_dim)\n",
    "        # decoder part\n",
    "        self.fc4 = nn.Linear(latent_dim, h_dim2)\n",
    "        self.fc5 = nn.Linear(h_dim2, h_dim1)\n",
    "        self.fc6 = nn.Linear(h_dim1, x_dim)\n",
    "        \n",
    "    def encode(self, x):\n",
    "        h = F.relu(self.fc1(x))\n",
    "        h = F.relu(self.fc2(h))\n",
    "        mu = self.fc_mu(h)\n",
    "        logvar = self.fc_std(h)\n",
    "        return mu, logvar\n",
    "    \n",
    "    def reparametrize(self, mu, logvar):\n",
    "        std = torch.exp(0.5*logvar)\n",
    "        eps = torch.randn_like(std)\n",
    "        z = eps*std+mu\n",
    "        return z\n",
    "        \n",
    "    def decode(self, z):\n",
    "        h = F.relu(self.fc4(z))\n",
    "        h = F.relu(self.fc5(h))\n",
    "        out = F.sigmoid(self.fc6(h)) \n",
    "        return out\n",
    "    \n",
    "    def forward(self, x):\n",
    "        mu, logvar = self.encode(x)\n",
    "        z = self.reparametrize(mu, logvar)\n",
    "        x_hat = self.decode(z)\n",
    "        return x_hat, mu, logvar\n",
    "    \n",
    "# single-layer model\n",
    "\n",
    "class VAE_single(nn.Module): \n",
    "    def __init__(self, in_dim = 784, latent_dim =32):\n",
    "        super(VAE_single, self).__init__()\n",
    "\n",
    "        # Encoder\n",
    "        self.fc_mu = nn.Linear(in_dim, latent_dim)\n",
    "        self.fc_std = nn.Linear(in_dim, latent_dim)\n",
    "        \n",
    "        self.fc1 = nn.Linear(latent_dim, in_dim)\n",
    "        self.sigmoid = nn.Sigmoid()\n",
    "\n",
    "    def encode(self, x):\n",
    "        mu = self.fc_mu(x)\n",
    "        logvar = self.fc_std(x)\n",
    "        return mu, logvar\n",
    "\n",
    "    def reparametrize(self, mu, logvar):\n",
    "        std = torch.exp(0.5*logvar)\n",
    "        eps = torch.randn_like(std)\n",
    "        z = eps*std + mu\n",
    "        return z\n",
    "\n",
    "    def decode(self, z):\n",
    "        out = self.sigmoid(self.fc1(z))\n",
    "        return out\n",
    " \n",
    "    def forward(self, x):\n",
    "        mu, logvar = self.encode(x)\n",
    "        z = self.reparametrize(mu, logvar)\n",
    "        x_hat = self.decode(z)\n",
    "        return x_hat, mu, logvar"
   ]
  },
  {
   "cell_type": "code",
   "execution_count": 13,
   "metadata": {},
   "outputs": [],
   "source": [
    "single_layer_VAE = VAE_single(in_dim = in_dim, latent_dim =latent_dim)\n",
    "three_layer_VAE = VAE_three(x_dim=in_dim, h_dim1= 2*intermediate_dim, h_dim2=intermediate_dim, latent_dim=2)"
   ]
  },
  {
   "cell_type": "markdown",
   "metadata": {},
   "source": [
    "### Define loss function"
   ]
  },
  {
   "cell_type": "code",
   "execution_count": 14,
   "metadata": {},
   "outputs": [],
   "source": [
    "\n",
    "# Reconstruction + KL divergence losses summed over all elements and batch\n",
    "def loss_function_VAE(recon_x, x, mu, logvar):\n",
    "    BCE = F.binary_cross_entropy(recon_x, x, size_average=False)\n",
    "    KLD = -0.5 * torch.sum(1 + logvar - mu.pow(2) - logvar.exp())\n",
    "\n",
    "    return BCE + KLD"
   ]
  },
  {
   "cell_type": "markdown",
   "metadata": {},
   "source": [
    "### Initialize model and print number of parameters"
   ]
  },
  {
   "cell_type": "code",
   "execution_count": 17,
   "metadata": {},
   "outputs": [
    {
     "name": "stdout",
     "output_type": "stream",
     "text": [
      "Total number of parameters is: 1068820\n",
      "VAE_three(\n",
      "  (fc1): Linear(in_features=784, out_features=512, bias=True)\n",
      "  (fc2): Linear(in_features=512, out_features=256, bias=True)\n",
      "  (fc_mu): Linear(in_features=256, out_features=2, bias=True)\n",
      "  (fc_std): Linear(in_features=256, out_features=2, bias=True)\n",
      "  (fc4): Linear(in_features=2, out_features=256, bias=True)\n",
      "  (fc5): Linear(in_features=256, out_features=512, bias=True)\n",
      "  (fc6): Linear(in_features=512, out_features=784, bias=True)\n",
      ")\n"
     ]
    }
   ],
   "source": [
    "# model = single_layer_VAE.to(device)\n",
    "model = three_layer_VAE.to(device)\n",
    "params = sum(p.numel() for p in model.parameters() if p.requires_grad)\n",
    "print(\"Total number of parameters is: {}\".format(params)) \n",
    "print(model)"
   ]
  },
  {
   "cell_type": "markdown",
   "metadata": {},
   "source": [
    "### Choose and initialize optimizer"
   ]
  },
  {
   "cell_type": "code",
   "execution_count": 18,
   "metadata": {},
   "outputs": [],
   "source": [
    "optimizer = torch.optim.Adam(model.parameters(), lr=learning_rate)"
   ]
  },
  {
   "cell_type": "markdown",
   "metadata": {},
   "source": [
    "### Train"
   ]
  },
  {
   "cell_type": "code",
   "execution_count": 19,
   "metadata": {},
   "outputs": [
    {
     "name": "stderr",
     "output_type": "stream",
     "text": [
      "/home/gbouritsas/anaconda3/envs/deeplab-pytorch/lib/python3.6/site-packages/torch/nn/functional.py:1332: UserWarning: nn.functional.sigmoid is deprecated. Use torch.sigmoid instead.\n",
      "  warnings.warn(\"nn.functional.sigmoid is deprecated. Use torch.sigmoid instead.\")\n",
      "/home/gbouritsas/anaconda3/envs/deeplab-pytorch/lib/python3.6/site-packages/torch/nn/_reduction.py:49: UserWarning: size_average and reduce args will be deprecated, please use reduction='sum' instead.\n",
      "  warnings.warn(warning.format(ret))\n"
     ]
    },
    {
     "name": "stdout",
     "output_type": "stream",
     "text": [
      "epoch [1/10], loss:179.5999\n",
      "epoch [2/10], loss:154.4242\n",
      "epoch [3/10], loss:148.5536\n",
      "epoch [4/10], loss:145.3124\n",
      "epoch [5/10], loss:142.8663\n",
      "epoch [6/10], loss:141.0534\n",
      "epoch [7/10], loss:139.7591\n",
      "epoch [8/10], loss:138.6317\n",
      "epoch [9/10], loss:137.6838\n",
      "epoch [10/10], loss:136.8005\n"
     ]
    }
   ],
   "source": [
    "model.train()\n",
    "n_samples = 32\n",
    "z = torch.randn(n_samples,2).to(device)\n",
    "num_epochs = 10\n",
    "for epoch in range(num_epochs):\n",
    "    train_loss = 0\n",
    "    for batch_idx, data in enumerate(train_loader):\n",
    "        img, _ = data\n",
    "        img= img.view(img.size(0), -1)\n",
    "        img = img.to(device)\n",
    "        optimizer.zero_grad()\n",
    "        # forward\n",
    "        recon_batch, mu, logvar = model(img)\n",
    "        loss = loss_function_VAE(recon_batch, img, mu, logvar)\n",
    "        # backward\n",
    "        loss.backward()\n",
    "        train_loss += loss.item()\n",
    "        optimizer.step()\n",
    "    # print out losses and save reconstructions for every epoch\n",
    "    print('epoch [{}/{}], loss:{:.4f}'.format(epoch + 1, num_epochs, train_loss / len(train_loader.dataset)))\n",
    "    recon,_,_ = model(fixed_input.view(fixed_input.size(0), -1).to(device))\n",
    "    recon = denorm(recon.cpu())\n",
    "    save_image(recon, './VAE/reconstructed_epoch_{}.png'.format(epoch))\n",
    "    \n",
    "    samples = model.decode(z)\n",
    "    save_image(denorm(samples).cpu(), './VAE/samples_epoch_{}.png'.format(epoch),nrow = 8)\n",
    "\n",
    "# save the model\n",
    "torch.save(model.state_dict(), './VAE/model.pth')"
   ]
  },
  {
   "cell_type": "markdown",
   "metadata": {},
   "source": [
    "### Test"
   ]
  },
  {
   "cell_type": "code",
   "execution_count": 20,
   "metadata": {},
   "outputs": [
    {
     "name": "stdout",
     "output_type": "stream",
     "text": [
      "Test set loss: 138.3421\n"
     ]
    }
   ],
   "source": [
    "model.load_state_dict(torch.load(\"./VAE/model.pth\"))\n",
    "model.eval()\n",
    "test_loss = 0\n",
    "with torch.no_grad():\n",
    "    for i, data in enumerate(test_loader):\n",
    "        img, _ = data\n",
    "        img = img.view(img.size(0), -1)\n",
    "        img = img.to(device)\n",
    "        recon_batch, mu, logvar = model(img)\n",
    "        test_loss += loss_function_VAE(recon_batch, img, mu, logvar)\n",
    "        img = denorm(img.cpu())\n",
    "    test_loss /= len(test_loader.dataset)\n",
    "    print('Test set loss: {:.4f}'.format(test_loss))"
   ]
  },
  {
   "cell_type": "markdown",
   "metadata": {},
   "source": [
    "### Visualizations"
   ]
  },
  {
   "cell_type": "code",
   "execution_count": 21,
   "metadata": {
    "scrolled": true
   },
   "outputs": [
    {
     "data": {
      "image/png": "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\n",
      "text/plain": [
       "<Figure size 432x288 with 1 Axes>"
      ]
     },
     "metadata": {
      "needs_background": "light"
     },
     "output_type": "display_data"
    }
   ],
   "source": [
    "# visualize the original images of the last batch of the test set\n",
    "img = make_grid(img.type(torch.FloatTensor), nrow=4, padding=2, normalize=False, range=None, scale_each=False, pad_value=0)\n",
    "show(img)"
   ]
  },
  {
   "cell_type": "code",
   "execution_count": 22,
   "metadata": {},
   "outputs": [
    {
     "name": "stdout",
     "output_type": "stream",
     "text": [
      "torch.Size([16, 1, 28, 28])\n"
     ]
    },
    {
     "data": {
      "image/png": "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\n",
      "text/plain": [
       "<Figure size 432x288 with 1 Axes>"
      ]
     },
     "metadata": {
      "needs_background": "light"
     },
     "output_type": "display_data"
    }
   ],
   "source": [
    "# visualize the reconstructed images of the last batch of test set\n",
    "recon_batch_denorm = denorm(recon_batch.view(-1, 1, 28, 28).cpu())\n",
    "print(recon_batch_denorm.size())\n",
    "recon_batch_denorm = make_grid(recon_batch_denorm.type(torch.FloatTensor), nrow=4, padding=2, normalize=False, range=None, scale_each=False, pad_value=0)\n",
    "show(recon_batch_denorm)"
   ]
  },
  {
   "cell_type": "markdown",
   "metadata": {},
   "source": [
    "## Sample"
   ]
  },
  {
   "cell_type": "code",
   "execution_count": 28,
   "metadata": {},
   "outputs": [],
   "source": [
    "model.load_state_dict(torch.load(\"./VAE/model.pth\"))\n",
    "model.eval()\n",
    "n_samples = 32\n",
    "with torch.no_grad():\n",
    "    z = torch.sort(torch.randn(n_samples,1),dim=0)[0].to(device)\n",
    "    gridz1, gridz2 = torch.meshgrid(torch.squeeze(z),torch.squeeze(z))\n",
    "    gridz1 = gridz1.contiguous().view(-1,1)\n",
    "    gridz2 = gridz2.contiguous().view(-1,1)\n",
    "    gridz = torch.cat((gridz1,gridz2),1)\n",
    "    samples = model.decode(gridz)\n",
    "    save_image(denorm(samples).type(torch.FloatTensor).cpu(), './VAE/samples' + '.png',nrow = n_samples)\n"
   ]
  },
  {
   "cell_type": "code",
   "execution_count": null,
   "metadata": {},
   "outputs": [],
   "source": []
  }
 ],
 "metadata": {
  "kernelspec": {
   "display_name": "Python 3",
   "language": "python",
   "name": "python3"
  },
  "language_info": {
   "codemirror_mode": {
    "name": "ipython",
    "version": 3
   },
   "file_extension": ".py",
   "mimetype": "text/x-python",
   "name": "python",
   "nbconvert_exporter": "python",
   "pygments_lexer": "ipython3",
<<<<<<< HEAD
   "version": "3.6.8"
=======
   "version": "3.6.7"
>>>>>>> 6c392617455d62191e43de814e698e67c9a1d53a
  }
 },
 "nbformat": 4,
 "nbformat_minor": 2
}
